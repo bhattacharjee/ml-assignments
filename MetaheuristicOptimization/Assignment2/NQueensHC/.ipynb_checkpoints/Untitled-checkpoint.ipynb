{
 "cells": [
  {
   "cell_type": "code",
   "execution_count": 1,
   "metadata": {},
   "outputs": [],
   "source": [
    "import matplotlib.pyplot as plt\n",
    "import pandas as pd\n",
    "import numpy as np"
   ]
  },
  {
   "cell_type": "code",
   "execution_count": 15,
   "metadata": {},
   "outputs": [],
   "source": [
    "%matplotlib inline"
   ]
  },
  {
   "cell_type": "code",
   "execution_count": 2,
   "metadata": {},
   "outputs": [],
   "source": [
    "df = pd.read_csv('dry_run.csv')"
   ]
  },
  {
   "cell_type": "code",
   "execution_count": 3,
   "metadata": {},
   "outputs": [
    {
     "data": {
      "text/html": [
       "<div>\n",
       "<style scoped>\n",
       "    .dataframe tbody tr th:only-of-type {\n",
       "        vertical-align: middle;\n",
       "    }\n",
       "\n",
       "    .dataframe tbody tr th {\n",
       "        vertical-align: top;\n",
       "    }\n",
       "\n",
       "    .dataframe thead th {\n",
       "        text-align: right;\n",
       "    }\n",
       "</style>\n",
       "<table border=\"1\" class=\"dataframe\">\n",
       "  <thead>\n",
       "    <tr style=\"text-align: right;\">\n",
       "      <th></th>\n",
       "      <th>RunNo</th>\n",
       "      <th>Restart</th>\n",
       "      <th>Cost</th>\n",
       "      <th>Time</th>\n",
       "      <th>InitialSolutionGenerationTime</th>\n",
       "      <th>Iterations</th>\n",
       "      <th>HeuristicCalls</th>\n",
       "      <th>HeuristicQueenCalls</th>\n",
       "      <th>AvgNumIterationsBeforeLocalMinima</th>\n",
       "    </tr>\n",
       "  </thead>\n",
       "  <tbody>\n",
       "    <tr>\n",
       "      <th>0</th>\n",
       "      <td>0</td>\n",
       "      <td>0</td>\n",
       "      <td>0</td>\n",
       "      <td>0.109375</td>\n",
       "      <td>0.0</td>\n",
       "      <td>42</td>\n",
       "      <td>84</td>\n",
       "      <td>4494</td>\n",
       "      <td>0</td>\n",
       "    </tr>\n",
       "    <tr>\n",
       "      <th>1</th>\n",
       "      <td>1</td>\n",
       "      <td>0</td>\n",
       "      <td>0</td>\n",
       "      <td>0.109375</td>\n",
       "      <td>0.0</td>\n",
       "      <td>42</td>\n",
       "      <td>84</td>\n",
       "      <td>4494</td>\n",
       "      <td>0</td>\n",
       "    </tr>\n",
       "    <tr>\n",
       "      <th>2</th>\n",
       "      <td>2</td>\n",
       "      <td>0</td>\n",
       "      <td>0</td>\n",
       "      <td>0.140625</td>\n",
       "      <td>0.0</td>\n",
       "      <td>51</td>\n",
       "      <td>102</td>\n",
       "      <td>5457</td>\n",
       "      <td>0</td>\n",
       "    </tr>\n",
       "    <tr>\n",
       "      <th>3</th>\n",
       "      <td>3</td>\n",
       "      <td>0</td>\n",
       "      <td>0</td>\n",
       "      <td>0.187500</td>\n",
       "      <td>0.0</td>\n",
       "      <td>95</td>\n",
       "      <td>190</td>\n",
       "      <td>10165</td>\n",
       "      <td>0</td>\n",
       "    </tr>\n",
       "    <tr>\n",
       "      <th>4</th>\n",
       "      <td>4</td>\n",
       "      <td>0</td>\n",
       "      <td>0</td>\n",
       "      <td>0.125000</td>\n",
       "      <td>0.0</td>\n",
       "      <td>42</td>\n",
       "      <td>84</td>\n",
       "      <td>4494</td>\n",
       "      <td>0</td>\n",
       "    </tr>\n",
       "    <tr>\n",
       "      <th>...</th>\n",
       "      <td>...</td>\n",
       "      <td>...</td>\n",
       "      <td>...</td>\n",
       "      <td>...</td>\n",
       "      <td>...</td>\n",
       "      <td>...</td>\n",
       "      <td>...</td>\n",
       "      <td>...</td>\n",
       "      <td>...</td>\n",
       "    </tr>\n",
       "    <tr>\n",
       "      <th>95</th>\n",
       "      <td>95</td>\n",
       "      <td>0</td>\n",
       "      <td>0</td>\n",
       "      <td>0.406250</td>\n",
       "      <td>0.0</td>\n",
       "      <td>175</td>\n",
       "      <td>350</td>\n",
       "      <td>18725</td>\n",
       "      <td>0</td>\n",
       "    </tr>\n",
       "    <tr>\n",
       "      <th>96</th>\n",
       "      <td>96</td>\n",
       "      <td>0</td>\n",
       "      <td>0</td>\n",
       "      <td>0.171875</td>\n",
       "      <td>0.0</td>\n",
       "      <td>69</td>\n",
       "      <td>138</td>\n",
       "      <td>7383</td>\n",
       "      <td>0</td>\n",
       "    </tr>\n",
       "    <tr>\n",
       "      <th>97</th>\n",
       "      <td>97</td>\n",
       "      <td>0</td>\n",
       "      <td>0</td>\n",
       "      <td>0.125000</td>\n",
       "      <td>0.0</td>\n",
       "      <td>48</td>\n",
       "      <td>96</td>\n",
       "      <td>5136</td>\n",
       "      <td>0</td>\n",
       "    </tr>\n",
       "    <tr>\n",
       "      <th>98</th>\n",
       "      <td>98</td>\n",
       "      <td>0</td>\n",
       "      <td>0</td>\n",
       "      <td>0.140625</td>\n",
       "      <td>0.0</td>\n",
       "      <td>60</td>\n",
       "      <td>120</td>\n",
       "      <td>6420</td>\n",
       "      <td>0</td>\n",
       "    </tr>\n",
       "    <tr>\n",
       "      <th>99</th>\n",
       "      <td>99</td>\n",
       "      <td>0</td>\n",
       "      <td>0</td>\n",
       "      <td>0.140625</td>\n",
       "      <td>0.0</td>\n",
       "      <td>53</td>\n",
       "      <td>106</td>\n",
       "      <td>5671</td>\n",
       "      <td>0</td>\n",
       "    </tr>\n",
       "  </tbody>\n",
       "</table>\n",
       "<p>100 rows × 9 columns</p>\n",
       "</div>"
      ],
      "text/plain": [
       "    RunNo  Restart  Cost      Time  InitialSolutionGenerationTime  Iterations  \\\n",
       "0       0        0     0  0.109375                            0.0          42   \n",
       "1       1        0     0  0.109375                            0.0          42   \n",
       "2       2        0     0  0.140625                            0.0          51   \n",
       "3       3        0     0  0.187500                            0.0          95   \n",
       "4       4        0     0  0.125000                            0.0          42   \n",
       "..    ...      ...   ...       ...                            ...         ...   \n",
       "95     95        0     0  0.406250                            0.0         175   \n",
       "96     96        0     0  0.171875                            0.0          69   \n",
       "97     97        0     0  0.125000                            0.0          48   \n",
       "98     98        0     0  0.140625                            0.0          60   \n",
       "99     99        0     0  0.140625                            0.0          53   \n",
       "\n",
       "    HeuristicCalls  HeuristicQueenCalls  AvgNumIterationsBeforeLocalMinima  \n",
       "0               84                 4494                                  0  \n",
       "1               84                 4494                                  0  \n",
       "2              102                 5457                                  0  \n",
       "3              190                10165                                  0  \n",
       "4               84                 4494                                  0  \n",
       "..             ...                  ...                                ...  \n",
       "95             350                18725                                  0  \n",
       "96             138                 7383                                  0  \n",
       "97              96                 5136                                  0  \n",
       "98             120                 6420                                  0  \n",
       "99             106                 5671                                  0  \n",
       "\n",
       "[100 rows x 9 columns]"
      ]
     },
     "execution_count": 3,
     "metadata": {},
     "output_type": "execute_result"
    }
   ],
   "source": [
    "df"
   ]
  },
  {
   "cell_type": "code",
   "execution_count": 9,
   "metadata": {},
   "outputs": [
    {
     "data": {
      "text/html": [
       "<div>\n",
       "<style scoped>\n",
       "    .dataframe tbody tr th:only-of-type {\n",
       "        vertical-align: middle;\n",
       "    }\n",
       "\n",
       "    .dataframe tbody tr th {\n",
       "        vertical-align: top;\n",
       "    }\n",
       "\n",
       "    .dataframe thead th {\n",
       "        text-align: right;\n",
       "    }\n",
       "</style>\n",
       "<table border=\"1\" class=\"dataframe\">\n",
       "  <thead>\n",
       "    <tr style=\"text-align: right;\">\n",
       "      <th></th>\n",
       "      <th>RunNo</th>\n",
       "      <th>Restart</th>\n",
       "      <th>Cost</th>\n",
       "      <th>Time</th>\n",
       "      <th>InitialSolutionGenerationTime</th>\n",
       "      <th>Iterations</th>\n",
       "      <th>HeuristicCalls</th>\n",
       "      <th>HeuristicQueenCalls</th>\n",
       "      <th>AvgNumIterationsBeforeLocalMinima</th>\n",
       "    </tr>\n",
       "  </thead>\n",
       "  <tbody>\n",
       "    <tr>\n",
       "      <th>0</th>\n",
       "      <td>0</td>\n",
       "      <td>0</td>\n",
       "      <td>0</td>\n",
       "      <td>0.109375</td>\n",
       "      <td>0.0</td>\n",
       "      <td>42</td>\n",
       "      <td>84</td>\n",
       "      <td>4494</td>\n",
       "      <td>0</td>\n",
       "    </tr>\n",
       "    <tr>\n",
       "      <th>1</th>\n",
       "      <td>1</td>\n",
       "      <td>0</td>\n",
       "      <td>0</td>\n",
       "      <td>0.109375</td>\n",
       "      <td>0.0</td>\n",
       "      <td>42</td>\n",
       "      <td>84</td>\n",
       "      <td>4494</td>\n",
       "      <td>0</td>\n",
       "    </tr>\n",
       "    <tr>\n",
       "      <th>2</th>\n",
       "      <td>2</td>\n",
       "      <td>0</td>\n",
       "      <td>0</td>\n",
       "      <td>0.140625</td>\n",
       "      <td>0.0</td>\n",
       "      <td>51</td>\n",
       "      <td>102</td>\n",
       "      <td>5457</td>\n",
       "      <td>0</td>\n",
       "    </tr>\n",
       "    <tr>\n",
       "      <th>3</th>\n",
       "      <td>3</td>\n",
       "      <td>0</td>\n",
       "      <td>0</td>\n",
       "      <td>0.187500</td>\n",
       "      <td>0.0</td>\n",
       "      <td>95</td>\n",
       "      <td>190</td>\n",
       "      <td>10165</td>\n",
       "      <td>0</td>\n",
       "    </tr>\n",
       "    <tr>\n",
       "      <th>4</th>\n",
       "      <td>4</td>\n",
       "      <td>0</td>\n",
       "      <td>0</td>\n",
       "      <td>0.125000</td>\n",
       "      <td>0.0</td>\n",
       "      <td>42</td>\n",
       "      <td>84</td>\n",
       "      <td>4494</td>\n",
       "      <td>0</td>\n",
       "    </tr>\n",
       "    <tr>\n",
       "      <th>...</th>\n",
       "      <td>...</td>\n",
       "      <td>...</td>\n",
       "      <td>...</td>\n",
       "      <td>...</td>\n",
       "      <td>...</td>\n",
       "      <td>...</td>\n",
       "      <td>...</td>\n",
       "      <td>...</td>\n",
       "      <td>...</td>\n",
       "    </tr>\n",
       "    <tr>\n",
       "      <th>95</th>\n",
       "      <td>95</td>\n",
       "      <td>0</td>\n",
       "      <td>0</td>\n",
       "      <td>0.406250</td>\n",
       "      <td>0.0</td>\n",
       "      <td>175</td>\n",
       "      <td>350</td>\n",
       "      <td>18725</td>\n",
       "      <td>0</td>\n",
       "    </tr>\n",
       "    <tr>\n",
       "      <th>96</th>\n",
       "      <td>96</td>\n",
       "      <td>0</td>\n",
       "      <td>0</td>\n",
       "      <td>0.171875</td>\n",
       "      <td>0.0</td>\n",
       "      <td>69</td>\n",
       "      <td>138</td>\n",
       "      <td>7383</td>\n",
       "      <td>0</td>\n",
       "    </tr>\n",
       "    <tr>\n",
       "      <th>97</th>\n",
       "      <td>97</td>\n",
       "      <td>0</td>\n",
       "      <td>0</td>\n",
       "      <td>0.125000</td>\n",
       "      <td>0.0</td>\n",
       "      <td>48</td>\n",
       "      <td>96</td>\n",
       "      <td>5136</td>\n",
       "      <td>0</td>\n",
       "    </tr>\n",
       "    <tr>\n",
       "      <th>98</th>\n",
       "      <td>98</td>\n",
       "      <td>0</td>\n",
       "      <td>0</td>\n",
       "      <td>0.140625</td>\n",
       "      <td>0.0</td>\n",
       "      <td>60</td>\n",
       "      <td>120</td>\n",
       "      <td>6420</td>\n",
       "      <td>0</td>\n",
       "    </tr>\n",
       "    <tr>\n",
       "      <th>99</th>\n",
       "      <td>99</td>\n",
       "      <td>0</td>\n",
       "      <td>0</td>\n",
       "      <td>0.140625</td>\n",
       "      <td>0.0</td>\n",
       "      <td>53</td>\n",
       "      <td>106</td>\n",
       "      <td>5671</td>\n",
       "      <td>0</td>\n",
       "    </tr>\n",
       "  </tbody>\n",
       "</table>\n",
       "<p>100 rows × 9 columns</p>\n",
       "</div>"
      ],
      "text/plain": [
       "    RunNo  Restart  Cost      Time  InitialSolutionGenerationTime  Iterations  \\\n",
       "0       0        0     0  0.109375                            0.0          42   \n",
       "1       1        0     0  0.109375                            0.0          42   \n",
       "2       2        0     0  0.140625                            0.0          51   \n",
       "3       3        0     0  0.187500                            0.0          95   \n",
       "4       4        0     0  0.125000                            0.0          42   \n",
       "..    ...      ...   ...       ...                            ...         ...   \n",
       "95     95        0     0  0.406250                            0.0         175   \n",
       "96     96        0     0  0.171875                            0.0          69   \n",
       "97     97        0     0  0.125000                            0.0          48   \n",
       "98     98        0     0  0.140625                            0.0          60   \n",
       "99     99        0     0  0.140625                            0.0          53   \n",
       "\n",
       "    HeuristicCalls  HeuristicQueenCalls  AvgNumIterationsBeforeLocalMinima  \n",
       "0               84                 4494                                  0  \n",
       "1               84                 4494                                  0  \n",
       "2              102                 5457                                  0  \n",
       "3              190                10165                                  0  \n",
       "4               84                 4494                                  0  \n",
       "..             ...                  ...                                ...  \n",
       "95             350                18725                                  0  \n",
       "96             138                 7383                                  0  \n",
       "97              96                 5136                                  0  \n",
       "98             120                 6420                                  0  \n",
       "99             106                 5671                                  0  \n",
       "\n",
       "[100 rows x 9 columns]"
      ]
     },
     "execution_count": 9,
     "metadata": {},
     "output_type": "execute_result"
    }
   ],
   "source": [
    "selected_df = df[df['Cost'] == 0]\n",
    "selected_df"
   ]
  },
  {
   "cell_type": "code",
   "execution_count": 10,
   "metadata": {},
   "outputs": [],
   "source": [
    "sorted_df = selected_df.sort_values(by=['Time'])"
   ]
  },
  {
   "cell_type": "code",
   "execution_count": 31,
   "metadata": {},
   "outputs": [],
   "source": [
    "sorted_times = sorted_df[['Time']].to_numpy()"
   ]
  },
  {
   "cell_type": "code",
   "execution_count": 32,
   "metadata": {},
   "outputs": [],
   "source": [
    "n_iterations = np.array([i for i in range(sorted_times.shape[0])])"
   ]
  },
  {
   "cell_type": "code",
   "execution_count": 33,
   "metadata": {},
   "outputs": [],
   "source": [
    "m = np.max(n_iterations)\n",
    "n_iterations = n_iterations / m"
   ]
  },
  {
   "cell_type": "code",
   "execution_count": 34,
   "metadata": {},
   "outputs": [
    {
     "data": {
      "text/plain": [
       "[<matplotlib.lines.Line2D at 0x1b055904d90>]"
      ]
     },
     "execution_count": 34,
     "metadata": {},
     "output_type": "execute_result"
    },
    {
     "data": {
      "image/png": "[encoded data removed]",
      "text/plain": [
       "<Figure size 432x288 with 1 Axes>"
      ]
     },
     "metadata": {
      "needs_background": "light"
     },
     "output_type": "display_data"
    }
   ],
   "source": [
    "fig, ax = plt.subplots()\n",
    "ax.plot(n_iterations, sorted_times)"
   ]
  },
  {
   "cell_type": "code",
   "execution_count": 47,
   "metadata": {},
   "outputs": [
    {
     "data": {
      "text/plain": [
       "<matplotlib.legend.Legend at 0x1b056c75070>"
      ]
     },
     "execution_count": 47,
     "metadata": {},
     "output_type": "execute_result"
    },
    {
     "data": {
      "image/png": "[encoded data removed]",
      "text/plain": [
       "<Figure size 1080x216 with 2 Axes>"
      ]
     },
     "metadata": {
      "needs_background": "light"
     },
     "output_type": "display_data"
    }
   ],
   "source": [
    "sorted_calls = selected_df.sort_values(by=['HeuristicQueenCalls'])['HeuristicQueenCalls']\n",
    "f = plt.figure(figsize=(15,3))\n",
    "pIterations = f.add_subplot(121)\n",
    "pOperations = f.add_subplot(122)\n",
    "\n",
    "pIterations.plot(n_iterations, sorted_calls, label=\"operation\")\n",
    "pOperations.plot(n_iterations, sorted_times, label=\"Time\")\n",
    "f.legend()"
   ]
  },
  {
   "cell_type": "code",
   "execution_count": 48,
   "metadata": {
    "scrolled": true
   },
   "outputs": [
    {
     "name": "stderr",
     "output_type": "stream",
     "text": [
      "<ipython-input-48-b092d8811a6a>:6: RuntimeWarning: divide by zero encountered in log2\n",
      "  pOperations.plot(np.log2(n_iterations), sorted_calls, label='operations')\n",
      "<ipython-input-48-b092d8811a6a>:7: RuntimeWarning: divide by zero encountered in log2\n",
      "  pIterations.plot(np.log2(n_iterations), sorted_times, label=\"time\")\n"
     ]
    },
    {
     "data": {
      "text/plain": [
       "[<matplotlib.lines.Line2D at 0x1b056a0bf70>]"
      ]
     },
     "execution_count": 48,
     "metadata": {},
     "output_type": "execute_result"
    },
    {
     "data": {
      "image/png": "[encoded data removed]",
      "text/plain": [
       "<Figure size 1080x216 with 2 Axes>"
      ]
     },
     "metadata": {
      "needs_background": "light"
     },
     "output_type": "display_data"
    }
   ],
   "source": [
    "sorted_calls = selected_df.sort_values(by=['HeuristicQueenCalls'])['HeuristicQueenCalls']\n",
    "f = plt.figure(figsize=(15,3))\n",
    "pIterations = f.add_subplot(121)\n",
    "pOperations = f.add_subplot(122)\n",
    "\n",
    "pOperations.plot(np.log2(n_iterations), sorted_calls, label='operations')\n",
    "pIterations.plot(np.log2(n_iterations), sorted_times, label=\"time\")"
   ]
  },
  {
   "cell_type": "code",
   "execution_count": 49,
   "metadata": {},
   "outputs": [
    {
     "data": {
      "text/plain": [
       "[<matplotlib.lines.Line2D at 0x1b056e3cc70>]"
      ]
     },
     "execution_count": 49,
     "metadata": {},
     "output_type": "execute_result"
    },
    {
     "data": {
      "image/png": "[encoded data removed]",
      "text/plain": [
       "<Figure size 1080x216 with 2 Axes>"
      ]
     },
     "metadata": {
      "needs_background": "light"
     },
     "output_type": "display_data"
    }
   ],
   "source": [
    "sorted_calls = selected_df.sort_values(by=['HeuristicQueenCalls'])['HeuristicQueenCalls']\n",
    "f = plt.figure(figsize=(15,3))\n",
    "pIterations = f.add_subplot(121)\n",
    "pOperations = f.add_subplot(122)\n",
    "\n",
    "pOperations.plot(n_iterations, np.log2(sorted_calls), label='operations')\n",
    "pIterations.plot(n_iterations, np.log2(sorted_times), label=\"time\")"
   ]
  },
  {
   "cell_type": "code",
   "execution_count": 50,
   "metadata": {},
   "outputs": [
    {
     "name": "stderr",
     "output_type": "stream",
     "text": [
      "<ipython-input-50-7fc25af0cde6>:6: RuntimeWarning: divide by zero encountered in log2\n",
      "  pOperations.plot(np.log2(n_iterations), np.log2(sorted_calls), label='operations')\n",
      "<ipython-input-50-7fc25af0cde6>:7: RuntimeWarning: divide by zero encountered in log2\n",
      "  pIterations.plot(np.log2(n_iterations), np.log2(sorted_times), label=\"time\")\n"
     ]
    },
    {
     "data": {
      "text/plain": [
       "[<matplotlib.lines.Line2D at 0x1b056ee5700>]"
      ]
     },
     "execution_count": 50,
     "metadata": {},
     "output_type": "execute_result"
    },
    {
     "data": {
      "image/png": "[encoded data removed]",
      "text/plain": [
       "<Figure size 1080x216 with 2 Axes>"
      ]
     },
     "metadata": {
      "needs_background": "light"
     },
     "output_type": "display_data"
    }
   ],
   "source": [
    "sorted_calls = selected_df.sort_values(by=['HeuristicQueenCalls'])['HeuristicQueenCalls']\n",
    "f = plt.figure(figsize=(15,3))\n",
    "pIterations = f.add_subplot(121)\n",
    "pOperations = f.add_subplot(122)\n",
    "\n",
    "pOperations.plot(np.log2(n_iterations), np.log2(sorted_calls), label='operations')\n",
    "pIterations.plot(np.log2(n_iterations), np.log2(sorted_times), label=\"time\")"
   ]
  },
  {
   "cell_type": "code",
   "execution_count": null,
   "metadata": {},
   "outputs": [],
   "source": []
  }
 ],
 "metadata": {
  "kernelspec": {
   "display_name": "Python 3",
   "language": "python",
   "name": "python3"
  },
  "language_info": {
   "codemirror_mode": {
    "name": "ipython",
    "version": 3
   },
   "file_extension": ".py",
   "mimetype": "text/x-python",
   "name": "python",
   "nbconvert_exporter": "python",
   "pygments_lexer": "ipython3",
   "version": "3.8.3"
  }
 },
 "nbformat": 4,
 "nbformat_minor": 4
}
