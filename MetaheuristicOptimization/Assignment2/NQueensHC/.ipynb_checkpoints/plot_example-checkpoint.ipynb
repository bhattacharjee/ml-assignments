{
 "cells": [
  {
   "cell_type": "code",
   "execution_count": 1,
   "metadata": {},
   "outputs": [],
   "source": [
    "import matplotlib.pyplot as plt\n",
    "import pandas as pd\n",
    "import numpy as np"
   ]
  },
  {
   "cell_type": "code",
   "execution_count": 15,
   "metadata": {},
   "outputs": [],
   "source": [
    "%matplotlib inline"
   ]
  },
  {
   "cell_type": "code",
   "execution_count": 1,
   "metadata": {},
   "outputs": [
    {
     "ename": "NameError",
     "evalue": "name 'pd' is not defined",
     "output_type": "error",
     "traceback": [
      "\u001b[1;31m---------------------------------------------------------------------------\u001b[0m",
      "\u001b[1;31mNameError\u001b[0m                                 Traceback (most recent call last)",
      "\u001b[1;32m<ipython-input-1-f7b403ab9dc5>\u001b[0m in \u001b[0;36m<module>\u001b[1;34m\u001b[0m\n\u001b[1;32m----> 1\u001b[1;33m \u001b[0mdf\u001b[0m \u001b[1;33m=\u001b[0m \u001b[0mpd\u001b[0m\u001b[1;33m.\u001b[0m\u001b[0mread_csv\u001b[0m\u001b[1;33m(\u001b[0m\u001b[1;34m'dry_run.csv'\u001b[0m\u001b[1;33m)\u001b[0m\u001b[1;33m\u001b[0m\u001b[1;33m\u001b[0m\u001b[0m\n\u001b[0m",
      "\u001b[1;31mNameError\u001b[0m: name 'pd' is not defined"
     ]
    }
   ],
   "source": [
    "df = pd.read_csv('dry_run.csv')"
   ]
  },
  {
   "cell_type": "code",
   "execution_count": 3,
   "metadata": {},
   "outputs": [
    {
     "data": {
      "text/html": [
       "<div>\n",
       "<style scoped>\n",
       "    .dataframe tbody tr th:only-of-type {\n",
       "        vertical-align: middle;\n",
       "    }\n",
       "\n",
       "    .dataframe tbody tr th {\n",
       "        vertical-align: top;\n",
       "    }\n",
       "\n",
       "    .dataframe thead th {\n",
       "        text-align: right;\n",
       "    }\n",
       "</style>\n",
       "<table border=\"1\" class=\"dataframe\">\n",
       "  <thead>\n",
       "    <tr style=\"text-align: right;\">\n",
       "      <th></th>\n",
       "      <th>RunNo</th>\n",
       "      <th>Restart</th>\n",
       "      <th>Cost</th>\n",
       "      <th>Time</th>\n",
       "      <th>InitialSolutionGenerationTime</th>\n",
       "      <th>Iterations</th>\n",
       "      <th>HeuristicCalls</th>\n",
       "      <th>HeuristicQueenCalls</th>\n",
       "      <th>AvgNumIterationsBeforeLocalMinima</th>\n",
       "    </tr>\n",
       "  </thead>\n",
       "  <tbody>\n",
       "    <tr>\n",
       "      <th>0</th>\n",
       "      <td>0</td>\n",
       "      <td>0</td>\n",
       "      <td>0</td>\n",
       "      <td>0.109375</td>\n",
       "      <td>0.0</td>\n",
       "      <td>42</td>\n",
       "      <td>84</td>\n",
       "      <td>4494</td>\n",
       "      <td>0</td>\n",
       "    </tr>\n",
       "    <tr>\n",
       "      <th>1</th>\n",
       "      <td>1</td>\n",
       "      <td>0</td>\n",
       "      <td>0</td>\n",
       "      <td>0.109375</td>\n",
       "      <td>0.0</td>\n",
       "      <td>42</td>\n",
       "      <td>84</td>\n",
       "      <td>4494</td>\n",
       "      <td>0</td>\n",
       "    </tr>\n",
       "    <tr>\n",
       "      <th>2</th>\n",
       "      <td>2</td>\n",
       "      <td>0</td>\n",
       "      <td>0</td>\n",
       "      <td>0.140625</td>\n",
       "      <td>0.0</td>\n",
       "      <td>51</td>\n",
       "      <td>102</td>\n",
       "      <td>5457</td>\n",
       "      <td>0</td>\n",
       "    </tr>\n",
       "    <tr>\n",
       "      <th>3</th>\n",
       "      <td>3</td>\n",
       "      <td>0</td>\n",
       "      <td>0</td>\n",
       "      <td>0.187500</td>\n",
       "      <td>0.0</td>\n",
       "      <td>95</td>\n",
       "      <td>190</td>\n",
       "      <td>10165</td>\n",
       "      <td>0</td>\n",
       "    </tr>\n",
       "    <tr>\n",
       "      <th>4</th>\n",
       "      <td>4</td>\n",
       "      <td>0</td>\n",
       "      <td>0</td>\n",
       "      <td>0.125000</td>\n",
       "      <td>0.0</td>\n",
       "      <td>42</td>\n",
       "      <td>84</td>\n",
       "      <td>4494</td>\n",
       "      <td>0</td>\n",
       "    </tr>\n",
       "    <tr>\n",
       "      <th>...</th>\n",
       "      <td>...</td>\n",
       "      <td>...</td>\n",
       "      <td>...</td>\n",
       "      <td>...</td>\n",
       "      <td>...</td>\n",
       "      <td>...</td>\n",
       "      <td>...</td>\n",
       "      <td>...</td>\n",
       "      <td>...</td>\n",
       "    </tr>\n",
       "    <tr>\n",
       "      <th>95</th>\n",
       "      <td>95</td>\n",
       "      <td>0</td>\n",
       "      <td>0</td>\n",
       "      <td>0.406250</td>\n",
       "      <td>0.0</td>\n",
       "      <td>175</td>\n",
       "      <td>350</td>\n",
       "      <td>18725</td>\n",
       "      <td>0</td>\n",
       "    </tr>\n",
       "    <tr>\n",
       "      <th>96</th>\n",
       "      <td>96</td>\n",
       "      <td>0</td>\n",
       "      <td>0</td>\n",
       "      <td>0.171875</td>\n",
       "      <td>0.0</td>\n",
       "      <td>69</td>\n",
       "      <td>138</td>\n",
       "      <td>7383</td>\n",
       "      <td>0</td>\n",
       "    </tr>\n",
       "    <tr>\n",
       "      <th>97</th>\n",
       "      <td>97</td>\n",
       "      <td>0</td>\n",
       "      <td>0</td>\n",
       "      <td>0.125000</td>\n",
       "      <td>0.0</td>\n",
       "      <td>48</td>\n",
       "      <td>96</td>\n",
       "      <td>5136</td>\n",
       "      <td>0</td>\n",
       "    </tr>\n",
       "    <tr>\n",
       "      <th>98</th>\n",
       "      <td>98</td>\n",
       "      <td>0</td>\n",
       "      <td>0</td>\n",
       "      <td>0.140625</td>\n",
       "      <td>0.0</td>\n",
       "      <td>60</td>\n",
       "      <td>120</td>\n",
       "      <td>6420</td>\n",
       "      <td>0</td>\n",
       "    </tr>\n",
       "    <tr>\n",
       "      <th>99</th>\n",
       "      <td>99</td>\n",
       "      <td>0</td>\n",
       "      <td>0</td>\n",
       "      <td>0.140625</td>\n",
       "      <td>0.0</td>\n",
       "      <td>53</td>\n",
       "      <td>106</td>\n",
       "      <td>5671</td>\n",
       "      <td>0</td>\n",
       "    </tr>\n",
       "  </tbody>\n",
       "</table>\n",
       "<p>100 rows × 9 columns</p>\n",
       "</div>"
      ],
      "text/plain": [
       "    RunNo  Restart  Cost      Time  InitialSolutionGenerationTime  Iterations  \\\n",
       "0       0        0     0  0.109375                            0.0          42   \n",
       "1       1        0     0  0.109375                            0.0          42   \n",
       "2       2        0     0  0.140625                            0.0          51   \n",
       "3       3        0     0  0.187500                            0.0          95   \n",
       "4       4        0     0  0.125000                            0.0          42   \n",
       "..    ...      ...   ...       ...                            ...         ...   \n",
       "95     95        0     0  0.406250                            0.0         175   \n",
       "96     96        0     0  0.171875                            0.0          69   \n",
       "97     97        0     0  0.125000                            0.0          48   \n",
       "98     98        0     0  0.140625                            0.0          60   \n",
       "99     99        0     0  0.140625                            0.0          53   \n",
       "\n",
       "    HeuristicCalls  HeuristicQueenCalls  AvgNumIterationsBeforeLocalMinima  \n",
       "0               84                 4494                                  0  \n",
       "1               84                 4494                                  0  \n",
       "2              102                 5457                                  0  \n",
       "3              190                10165                                  0  \n",
       "4               84                 4494                                  0  \n",
       "..             ...                  ...                                ...  \n",
       "95             350                18725                                  0  \n",
       "96             138                 7383                                  0  \n",
       "97              96                 5136                                  0  \n",
       "98             120                 6420                                  0  \n",
       "99             106                 5671                                  0  \n",
       "\n",
       "[100 rows x 9 columns]"
      ]
     },
     "execution_count": 3,
     "metadata": {},
     "output_type": "execute_result"
    }
   ],
   "source": [
    "df"
   ]
  },
  {
   "cell_type": "code",
   "execution_count": 9,
   "metadata": {},
   "outputs": [
    {
     "data": {
      "text/html": [
       "<div>\n",
       "<style scoped>\n",
       "    .dataframe tbody tr th:only-of-type {\n",
       "        vertical-align: middle;\n",
       "    }\n",
       "\n",
       "    .dataframe tbody tr th {\n",
       "        vertical-align: top;\n",
       "    }\n",
       "\n",
       "    .dataframe thead th {\n",
       "        text-align: right;\n",
       "    }\n",
       "</style>\n",
       "<table border=\"1\" class=\"dataframe\">\n",
       "  <thead>\n",
       "    <tr style=\"text-align: right;\">\n",
       "      <th></th>\n",
       "      <th>RunNo</th>\n",
       "      <th>Restart</th>\n",
       "      <th>Cost</th>\n",
       "      <th>Time</th>\n",
       "      <th>InitialSolutionGenerationTime</th>\n",
       "      <th>Iterations</th>\n",
       "      <th>HeuristicCalls</th>\n",
       "      <th>HeuristicQueenCalls</th>\n",
       "      <th>AvgNumIterationsBeforeLocalMinima</th>\n",
       "    </tr>\n",
       "  </thead>\n",
       "  <tbody>\n",
       "    <tr>\n",
       "      <th>0</th>\n",
       "      <td>0</td>\n",
       "      <td>0</td>\n",
       "      <td>0</td>\n",
       "      <td>0.109375</td>\n",
       "      <td>0.0</td>\n",
       "      <td>42</td>\n",
       "      <td>84</td>\n",
       "      <td>4494</td>\n",
       "      <td>0</td>\n",
       "    </tr>\n",
       "    <tr>\n",
       "      <th>1</th>\n",
       "      <td>1</td>\n",
       "      <td>0</td>\n",
       "      <td>0</td>\n",
       "      <td>0.109375</td>\n",
       "      <td>0.0</td>\n",
       "      <td>42</td>\n",
       "      <td>84</td>\n",
       "      <td>4494</td>\n",
       "      <td>0</td>\n",
       "    </tr>\n",
       "    <tr>\n",
       "      <th>2</th>\n",
       "      <td>2</td>\n",
       "      <td>0</td>\n",
       "      <td>0</td>\n",
       "      <td>0.140625</td>\n",
       "      <td>0.0</td>\n",
       "      <td>51</td>\n",
       "      <td>102</td>\n",
       "      <td>5457</td>\n",
       "      <td>0</td>\n",
       "    </tr>\n",
       "    <tr>\n",
       "      <th>3</th>\n",
       "      <td>3</td>\n",
       "      <td>0</td>\n",
       "      <td>0</td>\n",
       "      <td>0.187500</td>\n",
       "      <td>0.0</td>\n",
       "      <td>95</td>\n",
       "      <td>190</td>\n",
       "      <td>10165</td>\n",
       "      <td>0</td>\n",
       "    </tr>\n",
       "    <tr>\n",
       "      <th>4</th>\n",
       "      <td>4</td>\n",
       "      <td>0</td>\n",
       "      <td>0</td>\n",
       "      <td>0.125000</td>\n",
       "      <td>0.0</td>\n",
       "      <td>42</td>\n",
       "      <td>84</td>\n",
       "      <td>4494</td>\n",
       "      <td>0</td>\n",
       "    </tr>\n",
       "    <tr>\n",
       "      <th>...</th>\n",
       "      <td>...</td>\n",
       "      <td>...</td>\n",
       "      <td>...</td>\n",
       "      <td>...</td>\n",
       "      <td>...</td>\n",
       "      <td>...</td>\n",
       "      <td>...</td>\n",
       "      <td>...</td>\n",
       "      <td>...</td>\n",
       "    </tr>\n",
       "    <tr>\n",
       "      <th>95</th>\n",
       "      <td>95</td>\n",
       "      <td>0</td>\n",
       "      <td>0</td>\n",
       "      <td>0.406250</td>\n",
       "      <td>0.0</td>\n",
       "      <td>175</td>\n",
       "      <td>350</td>\n",
       "      <td>18725</td>\n",
       "      <td>0</td>\n",
       "    </tr>\n",
       "    <tr>\n",
       "      <th>96</th>\n",
       "      <td>96</td>\n",
       "      <td>0</td>\n",
       "      <td>0</td>\n",
       "      <td>0.171875</td>\n",
       "      <td>0.0</td>\n",
       "      <td>69</td>\n",
       "      <td>138</td>\n",
       "      <td>7383</td>\n",
       "      <td>0</td>\n",
       "    </tr>\n",
       "    <tr>\n",
       "      <th>97</th>\n",
       "      <td>97</td>\n",
       "      <td>0</td>\n",
       "      <td>0</td>\n",
       "      <td>0.125000</td>\n",
       "      <td>0.0</td>\n",
       "      <td>48</td>\n",
       "      <td>96</td>\n",
       "      <td>5136</td>\n",
       "      <td>0</td>\n",
       "    </tr>\n",
       "    <tr>\n",
       "      <th>98</th>\n",
       "      <td>98</td>\n",
       "      <td>0</td>\n",
       "      <td>0</td>\n",
       "      <td>0.140625</td>\n",
       "      <td>0.0</td>\n",
       "      <td>60</td>\n",
       "      <td>120</td>\n",
       "      <td>6420</td>\n",
       "      <td>0</td>\n",
       "    </tr>\n",
       "    <tr>\n",
       "      <th>99</th>\n",
       "      <td>99</td>\n",
       "      <td>0</td>\n",
       "      <td>0</td>\n",
       "      <td>0.140625</td>\n",
       "      <td>0.0</td>\n",
       "      <td>53</td>\n",
       "      <td>106</td>\n",
       "      <td>5671</td>\n",
       "      <td>0</td>\n",
       "    </tr>\n",
       "  </tbody>\n",
       "</table>\n",
       "<p>100 rows × 9 columns</p>\n",
       "</div>"
      ],
      "text/plain": [
       "    RunNo  Restart  Cost      Time  InitialSolutionGenerationTime  Iterations  \\\n",
       "0       0        0     0  0.109375                            0.0          42   \n",
       "1       1        0     0  0.109375                            0.0          42   \n",
       "2       2        0     0  0.140625                            0.0          51   \n",
       "3       3        0     0  0.187500                            0.0          95   \n",
       "4       4        0     0  0.125000                            0.0          42   \n",
       "..    ...      ...   ...       ...                            ...         ...   \n",
       "95     95        0     0  0.406250                            0.0         175   \n",
       "96     96        0     0  0.171875                            0.0          69   \n",
       "97     97        0     0  0.125000                            0.0          48   \n",
       "98     98        0     0  0.140625                            0.0          60   \n",
       "99     99        0     0  0.140625                            0.0          53   \n",
       "\n",
       "    HeuristicCalls  HeuristicQueenCalls  AvgNumIterationsBeforeLocalMinima  \n",
       "0               84                 4494                                  0  \n",
       "1               84                 4494                                  0  \n",
       "2              102                 5457                                  0  \n",
       "3              190                10165                                  0  \n",
       "4               84                 4494                                  0  \n",
       "..             ...                  ...                                ...  \n",
       "95             350                18725                                  0  \n",
       "96             138                 7383                                  0  \n",
       "97              96                 5136                                  0  \n",
       "98             120                 6420                                  0  \n",
       "99             106                 5671                                  0  \n",
       "\n",
       "[100 rows x 9 columns]"
      ]
     },
     "execution_count": 9,
     "metadata": {},
     "output_type": "execute_result"
    }
   ],
   "source": [
    "selected_df = df[df['Cost'] == 0]\n",
    "selected_df"
   ]
  },
  {
   "cell_type": "code",
   "execution_count": 10,
   "metadata": {},
   "outputs": [],
   "source": [
    "sorted_df = selected_df.sort_values(by=['Time'])"
   ]
  },
  {
   "cell_type": "code",
   "execution_count": 31,
   "metadata": {},
   "outputs": [],
   "source": [
    "sorted_times = sorted_df[['Time']].to_numpy()"
   ]
  },
  {
   "cell_type": "code",
   "execution_count": 32,
   "metadata": {},
   "outputs": [],
   "source": [
    "n_iterations = np.array([i for i in range(sorted_times.shape[0])])"
   ]
  },
  {
   "cell_type": "code",
   "execution_count": 33,
   "metadata": {},
   "outputs": [],
   "source": [
    "m = np.max(n_iterations)\n",
    "n_iterations = n_iterations / m"
   ]
  },
  {
   "cell_type": "code",
   "execution_count": 34,
   "metadata": {},
   "outputs": [
    {
     "data": {
      "text/plain": [
       "[<matplotlib.lines.Line2D at 0x1b055904d90>]"
      ]
     },
     "execution_count": 34,
     "metadata": {},
     "output_type": "execute_result"
    },
    {
     "data": {
      "image/png": "[encoded data removed]",
      "text/plain": [
       "<Figure size 432x288 with 1 Axes>"
      ]
     },
     "metadata": {
      "needs_background": "light"
     },
     "output_type": "display_data"
    }
   ],
   "source": [
    "fig, ax = plt.subplots()\n",
    "ax.plot(n_iterations, sorted_times)"
   ]
  },
  {
   "cell_type": "code",
   "execution_count": 68,
   "metadata": {},
   "outputs": [
    {
     "data": {
      "text/plain": [
       "Text(0, 0.5, 'seconds')"
      ]
     },
     "execution_count": 68,
     "metadata": {},
     "output_type": "execute_result"
    },
    {
     "data": {
      "image/png": "[encoded data removed]",
      "text/plain": [
       "<Figure size 1080x288 with 2 Axes>"
      ]
     },
     "metadata": {
      "needs_background": "light"
     },
     "output_type": "display_data"
    }
   ],
   "source": [
    "sorted_calls = selected_df.sort_values(by=['HeuristicQueenCalls'])['HeuristicQueenCalls']\n",
    "f = plt.figure(figsize=(15,4))\n",
    "pRunTime = f.add_subplot(121)\n",
    "pOperations = f.add_subplot(122)\n",
    "\n",
    "pRunTime.plot(n_iterations, sorted_times, label=\"operation\")\n",
    "pOperations.plot(n_iterations, sorted_calls, label=\"Time\")\n",
    "pOperations.set_title('Operations')\n",
    "pRunTime.set_title('Run Time')\n",
    "pOperations.set_xlabel('Iteration')\n",
    "pOperations.set_ylabel('n(operations)')\n",
    "pRunTime.set_xlabel('Iteration')\n",
    "pRunTime.set_ylabel('seconds')"
   ]
  },
  {
   "cell_type": "code",
   "execution_count": 61,
   "metadata": {
    "scrolled": true
   },
   "outputs": [
    {
     "name": "stderr",
     "output_type": "stream",
     "text": [
      "<ipython-input-61-ba0d3d403d12>:6: RuntimeWarning: divide by zero encountered in log2\n",
      "  pOperations.plot(np.log2(n_iterations), sorted_calls, label='operations')\n",
      "<ipython-input-61-ba0d3d403d12>:7: RuntimeWarning: divide by zero encountered in log2\n",
      "  pRunTime.plot(np.log2(n_iterations), sorted_times, label=\"time\")\n"
     ]
    },
    {
     "data": {
      "text/plain": [
       "Text(0.5, 1.0, 'Run Time')"
      ]
     },
     "execution_count": 61,
     "metadata": {},
     "output_type": "execute_result"
    },
    {
     "data": {
      "image/png": "[encoded data removed]",
      "text/plain": [
       "<Figure size 1080x216 with 2 Axes>"
      ]
     },
     "metadata": {
      "needs_background": "light"
     },
     "output_type": "display_data"
    }
   ],
   "source": [
    "sorted_calls = selected_df.sort_values(by=['HeuristicQueenCalls'])['HeuristicQueenCalls']\n",
    "f = plt.figure(figsize=(15,3))\n",
    "pRunTime = f.add_subplot(121)\n",
    "pOperations = f.add_subplot(122)\n",
    "\n",
    "pOperations.plot(np.log2(n_iterations), sorted_calls, label='operations')\n",
    "pRunTime.plot(np.log2(n_iterations), sorted_times, label=\"time\")\n",
    "pOperations.set_title('Operations')\n",
    "pRunTime.set_title('Run Time')"
   ]
  },
  {
   "cell_type": "code",
   "execution_count": 62,
   "metadata": {},
   "outputs": [
    {
     "data": {
      "text/plain": [
       "Text(0.5, 1.0, 'Run Time')"
      ]
     },
     "execution_count": 62,
     "metadata": {},
     "output_type": "execute_result"
    },
    {
     "data": {
      "image/png": "[encoded data removed]",
      "text/plain": [
       "<Figure size 1080x216 with 2 Axes>"
      ]
     },
     "metadata": {
      "needs_background": "light"
     },
     "output_type": "display_data"
    }
   ],
   "source": [
    "sorted_calls = selected_df.sort_values(by=['HeuristicQueenCalls'])['HeuristicQueenCalls']\n",
    "f = plt.figure(figsize=(15,3))\n",
    "pRunTime = f.add_subplot(121)\n",
    "pOperations = f.add_subplot(122)\n",
    "\n",
    "pOperations.plot(n_iterations, np.log2(sorted_calls), label='operations')\n",
    "pRunTime.plot(n_iterations, np.log2(sorted_times), label=\"time\")\n",
    "pOperations.set_title('Operations')\n",
    "pRunTime.set_title('Run Time')"
   ]
  },
  {
   "cell_type": "code",
   "execution_count": 63,
   "metadata": {},
   "outputs": [
    {
     "name": "stderr",
     "output_type": "stream",
     "text": [
      "<ipython-input-63-d143a0bfbf49>:6: RuntimeWarning: divide by zero encountered in log2\n",
      "  pOperations.plot(np.log2(n_iterations), np.log2(sorted_calls), label='operations')\n",
      "<ipython-input-63-d143a0bfbf49>:7: RuntimeWarning: divide by zero encountered in log2\n",
      "  pRunTime.plot(np.log2(n_iterations), np.log2(sorted_times), label=\"time\")\n"
     ]
    },
    {
     "data": {
      "text/plain": [
       "Text(0.5, 1.0, 'Run Time')"
      ]
     },
     "execution_count": 63,
     "metadata": {},
     "output_type": "execute_result"
    },
    {
     "data": {
      "image/png": "[encoded data removed]",
      "text/plain": [
       "<Figure size 1080x216 with 2 Axes>"
      ]
     },
     "metadata": {
      "needs_background": "light"
     },
     "output_type": "display_data"
    }
   ],
   "source": [
    "sorted_calls = selected_df.sort_values(by=['HeuristicQueenCalls'])['HeuristicQueenCalls']\n",
    "f = plt.figure(figsize=(15,3))\n",
    "pRunTime = f.add_subplot(121)\n",
    "pOperations = f.add_subplot(122)\n",
    "\n",
    "pOperations.plot(np.log2(n_iterations), np.log2(sorted_calls), label='operations')\n",
    "pRunTime.plot(np.log2(n_iterations), np.log2(sorted_times), label=\"time\")\n",
    "pOperations.set_title('Operations')\n",
    "pRunTime.set_title('Run Time')"
   ]
  },
  {
   "cell_type": "code",
   "execution_count": 5,
   "metadata": {},
   "outputs": [],
   "source": [
    "no_sideways_no_cache = {\n",
    "    50: \"no_sideways_no_cache_50_1.csv\",\n",
    "    100: \"no_sideways_no_cache_100.csv\",\n",
    "    250: \"no_sideways_no_cache_250.csv\",\n",
    "    500: \"no_sideways_no_cache_500.csv\",\n",
    "    1000: \"no_sideways_no_cache_1000.csv\",\n",
    "    10000: \"no_sideways_no_cache_10000.csv\",\n",
    "    100000: \"100_no_sideways_no_cache_early.csv\",}\n",
    "\n",
    "no_sideways_yes_cache = {\n",
    "    50: \"no_sideways_cache_50.csv\",\n",
    "    100: \"no_sideways_cache_100.csv\",\n",
    "    250: \"no_sideways_cache_250.csv\",\n",
    "    500: \"no_sideways_cache_500.csv\",\n",
    "    1000: \"no_sideways_cache_1000.csv\",\n",
    "    10000: \"no_sideways_cache_10000.csv\",\n",
    "    100000: \"100_no_sideways_cache_early.csv\",}\n",
    "\n",
    "sideways_no_cache = {\n",
    "    100000: \"100_sideways_no_cache_100000.csv\",\n",
    "    10000: \"yes_sideways_no_cache_r10000.csv\",\n",
    "    2500: \"yes_sideways_no_cache_10000.csv\",\n",
    "    1000: \"yes_sideways_no_cache_1000.csv\",\n",
    "    500: \"yes_sideways_no_cache_500.csv\",\n",
    "    250: \"yes_sideways_no_cache_250.csv\",\n",
    "    100: \"yes_sideways_no_cache_100.csv\",\n",
    "    50: \"yes_sideways_no_cache_50\",\n",
    "}\n",
    "\n",
    "sideways_yes_cache = {\n",
    "    100000: \"100_sideways_cache_100000.csv\",\n",
    "    10000: \"yes_sideways_cache_r10000.csv\",\n",
    "    2500: \"yes_sideways_cache_10000.csv\",\n",
    "    1000: \"yes_sideways_cache_1000.csv\",\n",
    "    500: \"yes_sideways_cache_500.csv\",\n",
    "    250: \"yes_sideways_cache_250.csv\",\n",
    "    100: \"yes_sideways_cache_100.csv\",\n",
    "    50: \"yes_sideways_cache_50.csv\"\n",
    "}"
   ]
  },
  {
   "cell_type": "code",
   "execution_count": 3,
   "metadata": {},
   "outputs": [
    {
     "data": {
      "text/plain": [
       "{100000: '100_no_sideways_no_cache_early.csv',\n",
       " 50: 'no_sideways_no_cache_50_1.csv',\n",
       " 100: 'no_sideways_no_cache_100.csv',\n",
       " 250: 'no_sideways_no_cache_250.csv',\n",
       " 500: 'no_sideways_no_cache_500.csv',\n",
       " 1000: 'no_sideways_no_cache_1000.csv',\n",
       " 10000: 'no_sideways_no_cache_10000.csv'}"
      ]
     },
     "execution_count": 3,
     "metadata": {},
     "output_type": "execute_result"
    }
   ],
   "source": []
  },
  {
   "cell_type": "markdown",
   "metadata": {},
   "source": [
    "\n",
    "\n",
    "5. python -OO .\\HillClimbing.py -q 54 -n 100 -i 100000 -r 1000  -e > 100_no_sideways_no_cache_early.txt\n",
    "4. python -OO .\\HillClimbing.py -q 54 -n 100 -i 100000 -r 1000 -c -e > 100_no_sideways_cache_early.txt\n",
    "\n",
    "\n",
    "\n",
    "\n",
    "7. python -OO .\\HillClimbing.py -q 54 -n 200 -i 100000 -r 1000  -e > no_sideways_no_cache_early.txt\n",
    "6. python -OO .\\HillClimbing.py -q 54 -n 200 -i 100000 -r 1000 -c -e > no_sideways_cache_early.txt\n",
    "\n",
    "\n",
    "\n",
    "5. python -OO .\\HillClimbing.py -q 54 -n 100 -i 50 -r 1000   -e > no_sideways_no_cache_50_1.txt\n",
    "4. python -OO .\\HillClimbing.py -q 54 -n 100 -i 50 -r 1000 -c -e > no_sideways_cache_50.txt\n",
    "\n",
    "3. python -OO .\\HillClimbing.py -q 54 -n 100 -i 100 -r 1000   -e  > no_sideways_no_cache_100.txt\n",
    "2. python -OO .\\HillClimbing.py -q 54 -n 100 -i 100 -r 1000 -c   -e > no_sideways_cache_100.txt\n",
    "\n",
    "\n",
    "1. python -OO .\\HillClimbing.py -q 54 -n 100 -i 250 -r 1000  -e   > no_sideways_no_cache_250.txt\n",
    "*7. python -OO .\\HillClimbing.py -q 54 -n 100 -i 250 -r 1000 -c  -e  > no_sideways_cache_250.txt\n",
    "\n",
    "\n",
    "6. python -OO .\\HillClimbing.py -q 54 -n 100 -i 500 -r 1000  -e   > no_sideways_no_cache_500.txt\n",
    "5. python -OO .\\HillClimbing.py -q 54 -n 100 -i 500 -r 1000 -c  -e  > no_sideways_cache_500.txt\n",
    "\n",
    "\n",
    "4. python -OO .\\HillClimbing.py -q 54 -n 100 -i 1000 -r 1000  -e   > no_sideways_no_cache_1000.txt\n",
    "3. python -OO .\\HillClimbing.py -q 54 -n 100 -i 1000 -r 1000 -c  -e  > no_sideways_cache_1000.txt\n",
    "\n",
    "\n",
    "2. python -OO .\\HillClimbing.py -q 54 -n 100 -i 10000 -r 1000  -e   > no_sideways_no_cache_10000.txt\n",
    "1. python -OO .\\HillClimbing.py -q 54 -n 100 -i 10000 -r 1000 -c   -e > no_sideways_cache_10000.txt\n",
    "\n",
    "\n",
    "\n",
    "\n",
    "\n",
    "\n",
    "No EARLY EXIT sideways:\n",
    "1. python -OO .\\HillClimbing.py -q 54 -n 100 -i 50 -r 500  -s > yes_sideways_no_cache_50.txt\n",
    "2. python -OO .\\HillClimbing.py -q 54 -n 100 -i 50 -r 500 -c -s  > yes_sideways_cache_50.txt\n",
    "\n",
    "6. python -OO .\\HillClimbing.py -q 54 -n 100 -i 100 -r 250  -s > yes_sideways_no_cache_100.txt\n",
    "7. python -OO .\\HillClimbing.py -q 54 -n 100 -i 100 -r 250 -c -s  > yes_sideways_cache_100.txt\n",
    "\n",
    "3. python -OO .\\HillClimbing.py -q 54 -n 100 -i 250 -r 100 -s   > yes_sideways_no_cache_250.txt\n",
    "4. python -OO .\\HillClimbing.py -q 54 -n 100 -i 250 -r 100 -c  -s > yes_sideways_cache_250.txt\n",
    "\n",
    "\n",
    "5. python -OO .\\HillClimbing.py -q 54 -n 100 -i 500 -r 50 -s   > yes_sideways_no_cache_500.txt\n",
    "1. python -OO .\\HillClimbing.py -q 54 -n 100 -i 500 -r 50 -c -s  > yes_sideways_cache_500.txt\n",
    "\n",
    "\n",
    "2. python -OO .\\HillClimbing.py -q 54 -n 100 -i 1000 -r 25 -s   > yes_sideways_no_cache_1000.txt\n",
    "3. python -OO .\\HillClimbing.py -q 54 -n 100 -i 1000 -r 25 -c -s  > yes_sideways_cache_1000.txt\n",
    "\n",
    "\n",
    "4. python -OO .\\HillClimbing.py -q 54 -n 100 -i 2500 -r 10  -s  > yes_sideways_no_cache_10000.txt\n",
    "5. python -OO .\\HillClimbing.py -q 54 -n 100 -i 2500 -r 10 -c -s   > yes_sideways_cache_10000.txt\n",
    "\n",
    "*6. python -OO .\\HillClimbing.py -q 54 -n 100 -i 10000 -r 10  -s  > yes_sideways_no_cache_r10000.txt\n",
    "*7. python -OO .\\HillClimbing.py -q 54 -n 100 -i 10000 -r 10 -c -s   > yes_sideways_cache_r10000.txt\n",
    "\n",
    "1. python -OO .\\HillClimbing.py -q 54 -n 200 -i 100000 -r 1000 -s > sideways_no_cache_100000.txt\n",
    "1. python -OO .\\HillClimbing.py -q 54 -n 200 -i 100000 -r 1000 -s -c > sideways_cache_100000.txt\n",
    "\n",
    "\n",
    "7. python -OO .\\HillClimbing.py -q 54 -n 100 -i 100000 -r 1000 -s > 100_sideways_no_cache_100000.txt\n",
    "6. python -OO .\\HillClimbing.py -q 54 -n 100 -i 100000 -r 1000 -s -c > 100_sideways_cache_100000.txt"
   ]
  }
 ],
 "metadata": {
  "kernelspec": {
   "display_name": "Python 3",
   "language": "python",
   "name": "python3"
  },
  "language_info": {
   "codemirror_mode": {
    "name": "ipython",
    "version": 3
   },
   "file_extension": ".py",
   "mimetype": "text/x-python",
   "name": "python",
   "nbconvert_exporter": "python",
   "pygments_lexer": "ipython3",
   "version": "3.8.3"
  }
 },
 "nbformat": 4,
 "nbformat_minor": 4
}
