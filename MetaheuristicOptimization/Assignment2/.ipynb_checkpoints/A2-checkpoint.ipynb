{
 "cells": [
  {
   "cell_type": "code",
   "execution_count": 1,
   "metadata": {},
   "outputs": [],
   "source": [
    "%matplotlib inline"
   ]
  },
  {
   "cell_type": "code",
   "execution_count": 2,
   "metadata": {},
   "outputs": [],
   "source": [
    "from lab_tsp_insertion import *\n",
    "import math\n",
    "import matplotlib.pyplot as plt\n",
    "import sys"
   ]
  },
  {
   "cell_type": "code",
   "execution_count": 3,
   "metadata": {},
   "outputs": [],
   "source": [
    "from functools import lru_cache\n",
    "class TSPSolution(object):\n",
    "    def __init__(self, instance: list, tour:list, distance:int):\n",
    "        self.tour = tour\n",
    "        self.n_cities = len(tour)\n",
    "        self.inst = instance\n",
    "        self.distance = self.calculate_solution_distance()\n",
    "    \n",
    "    def __repr__(self):\n",
    "        return f\"Tour={self.tour}, distance={self.distance}, n_cities={self.n_cities}\"\n",
    "    \n",
    "    def get_n_cities(self):\n",
    "        return self.n_cities\n",
    "    \n",
    "    @lru_cache(maxsize=1024 * 1024 * 1024)\n",
    "    def get_distance(self, x, y):\n",
    "        # This function takes the city number, not index into array\n",
    "        c1x, c1y = self.inst[x]\n",
    "        c2x, c2y = self.inst[y]\n",
    "        return ((c2x - c1x) ** 2 + (c2y - c1y) ** 2)\n",
    "    \n",
    "    def copy(self):\n",
    "        return TSPSolution(self.inst, self.tour.copy(), self.distance)\n",
    "    \n",
    "    @lru_cache(maxsize=1024 * 1024 * 1024)\n",
    "    def is_valid_swap(self, x:int, y:int):\n",
    "        x, y = min(x, y), max(x, y)\n",
    "        x1 = (x + 1) % self.n_cities\n",
    "        y1 = (y + 1) % self.n_cities\n",
    "        return x != y and x != y1 and x != x1 and y != y1 and y != x1 and y1 != x1\n",
    "    \n",
    "    def calculate_cost_if_swapped(self, x:int, y: int):\n",
    "        # If the edges are swapped what would be the cost\n",
    "        x, y = min(x, y), max(x, y)\n",
    "        x1 = (x + 1) % self.n_cities\n",
    "        y1 = (y + 1) % self.n_cities\n",
    "        xx1 = self.get_distance(self.tour[x], self.tour[x1])\n",
    "        xy = self.get_distance(self.tour[x], self.tour[y])\n",
    "        yy1 = self.get_distance(self.tour[y], self.tour[y1])\n",
    "        x1y1 = self.get_distance(self.tour[x1], self.tour[y1])\n",
    "        return self.distance - xx1 - yy1 + x1y1 + xy\n",
    "    \n",
    "    def get_cache_stats(self):\n",
    "        return self.get_distance.cache_info(), self.is_valid_swap.cache_info()\n",
    "    \n",
    "    def calculate_solution_distance(self):\n",
    "        dist = 0\n",
    "        for x in range(self.n_cities):\n",
    "            y = (x + 1) % self.n_cities\n",
    "            dist += self.get_distance(self.tour[x], self.tour[y])\n",
    "        return dist\n",
    "    \n",
    "    def perform_swap(self, x, y):\n",
    "        x, y = min(x, y), max(x, y)\n",
    "        new_distance = self.calculate_cost_if_swapped(x, y)\n",
    "        x1 = (x + 1) % self.n_cities\n",
    "        y1 = (y + 1) % self.n_cities\n",
    "        assert(x1 < y)\n",
    "        self.tour[x1], self.tour[y] = self.tour[y], self.tour[x1]\n",
    "        i = x1 + 1\n",
    "        j = y - 1\n",
    "        while (i < j):\n",
    "            self.tour[i], self.tour[j] = self.tour[j], self.tour[i]\n",
    "            i += 1\n",
    "            j -= 1\n",
    "        #if int(self.calculate_solution_distance()) != int(new_distance):\n",
    "        #    print(f\"New distance should have been {new_distance} but is {self.calculate_solution_distance()}\")\n",
    "        self.distance = new_distance\n"
   ]
  },
  {
   "cell_type": "code",
   "execution_count": 20,
   "metadata": {},
   "outputs": [],
   "source": [
    "class TSPHillClimbing(object):\n",
    "    def __init__(self, inst:dict = None, max_sideways_moves:int=0):\n",
    "        self.inst = inst\n",
    "        self.ind = None\n",
    "        self.g_best_solution = None\n",
    "        self.g_best_distance = 99999999999999999999999999999999999999999\n",
    "        self.current_iter_sols = []\n",
    "        self.current_iter_dist = None\n",
    "        self.max_sideways_moves = max_sideways_moves\n",
    "        self.n_sideways_moves = 0\n",
    "        self.g_best_distance = 999999999999999999999999999999999999999999\n",
    "        self.g_best_sol = None\n",
    "        if None != self.inst:\n",
    "            self.ind = self.get_solution()\n",
    "            self.update_best_g_instance(self.ind)\n",
    "\n",
    "            \n",
    "    def __repr__(self):\n",
    "        return f\"inst = {self.inst}\\n\\nindividual = {self.ind}\\n\\n\" +\\\n",
    "             f\"g_best_solution = {self.g_best_solution}\\n\\ng_best_distance = {self.g_best_distance}\"\n",
    "    \n",
    "    def update_best_g_instance(self, instance: TSPSolution):\n",
    "        self.g_best_solution = instance.copy()\n",
    "        self.g_best_distance = instance.distance\n",
    "        \n",
    "    def get_solution(self):\n",
    "        #cities, distance = insertion_heuristic1(self.inst)\n",
    "        cities, distance = randomTours(self.inst)\n",
    "        return TSPSolution(self.inst, cities, distance)\n",
    "    \n",
    "    def check_improving_move(self):\n",
    "        self.current_iter_dist = self.ind.distance\n",
    "        self.current_iter_sols = []\n",
    "        for i in range(self.ind.get_n_cities()):\n",
    "            for j in range(i+2, self.ind.get_n_cities()):\n",
    "                if not self.ind.is_valid_swap(i, j):\n",
    "                    #print(f\"{i}, {j} is not a valid swap\")\n",
    "                    pass\n",
    "                else:\n",
    "                    newcost = self.ind.calculate_cost_if_swapped(i, j)\n",
    "                    if newcost == self.current_iter_dist:\n",
    "                        self.current_iter_sols.append(list(i, j))\n",
    "                    elif newcost < self.current_iter_dist:\n",
    "                        self.current_iter_dist = newcost\n",
    "                        self.current_iter_sols = [[i,j]]\n",
    "    \n",
    "    def iterate_once(self, allow_sideways=False):\n",
    "        update = False\n",
    "        old_distance = self.ind.distance\n",
    "        self.check_improving_move()\n",
    "        if old_distance == self.current_iter_dist:\n",
    "            return old_distance, current_iter_dist\n",
    "        if int(self.ind.distance) > int(self.current_iter_dist):\n",
    "            self.n_sideways_moves = 0\n",
    "            update = True\n",
    "        if update:\n",
    "            toswap = self.current_iter_sols[random.randint(0, len(self.current_iter_sols)-1)]\n",
    "            x, y = tuple(toswap)\n",
    "            self.ind.perform_swap(x, y)\n",
    "        return old_distance, self.current_iter_dist\n",
    "        \n",
    "    def iterate(self):\n",
    "        y = []\n",
    "        rt = []\n",
    "        self.n_sideways_moves = 0\n",
    "        t1 = time.perf_counter()\n",
    "        for i in range(100):\n",
    "            sys.stdout.write('.')\n",
    "            old_distance, current_iter_dist = self.iterate_once()\n",
    "            if 0 == i:\n",
    "                y.append(math.sqrt(old_distance))\n",
    "            rt.append(time.perf_counter() - t1)\n",
    "            y.append(math.sqrt(current_iter_dist))\n",
    "            #print(\"%5.3d %20.10d %20.10d\" % (i, old_distance, current_iter_dist))\n",
    "            if old_distance == current_iter_dist:\n",
    "                break\n",
    "        for i in y:\n",
    "            print(\"%20.10f\" % y)\n",
    "        print('-' * 80)\n",
    "        fig, ax = plt.subplots(2)\n",
    "        ax[0].plot(y, label='distance')\n",
    "        ax[1].plot(rt, label='runtime')\n",
    "        print(rt, y)\n",
    "        fig.legend()\n",
    "        plt.show()\n",
    "        \n",
    "    def restart_and_iterate(self, n_restarts:int=5):\n",
    "        for i in range(n_restarts):\n",
    "            self.ind = self.get_solution()\n",
    "            self.update_best_g_instance(self.ind)\n",
    "            self.iterate()\n",
    "                "
   ]
  },
  {
   "cell_type": "code",
   "execution_count": 21,
   "metadata": {},
   "outputs": [],
   "source": [
    "random.seed(5)\n",
    "def main():\n",
    "    inst = readInstance('TSPData/inst-14.tsp')\n",
    "    tsp = TSPHillClimbing(inst)\n",
    "    tsp.restart_and_iterate()\n",
    "    print('-' * 80)\n",
    "    return tsp"
   ]
  },
  {
   "cell_type": "code",
   "execution_count": null,
   "metadata": {},
   "outputs": [
    {
     "name": "stdout",
     "output_type": "stream",
     "text": [
      "....................................................................................................641137.1295378236\n",
      "--------------------------------------------------------------------------------\n",
      "[4.425736765000011, 7.576722799000038, 10.34112308500005, 13.122215480000023, 15.96708398200002, 18.862800210000046, 21.637259259000018, 24.54216354800002, 27.30507578600003, 30.122361604000048, 32.862492481000004, 35.596724408, 38.32716617400001, 41.222578449000025, 43.94242528700005, 46.691118195, 49.404550684000014, 53.03063995900004, 56.38479035, 59.55349098400001, 62.731633790000046, 65.55206485900004, 68.38889314700003, 71.44132407200004, 74.48760646400001, 77.24754562800001, 79.97554066800001, 82.81951052600004, 85.80889445400004, 88.58459234600002, 91.63148339900005, 94.42761145500003, 97.29743392, 100.11495912500004, 102.91179401300002, 105.673997154, 108.40938787700003, 111.19783970700001, 113.96064886600004, 116.72152858500004, 119.461535615, 122.23032905800005, 125.03222051300003, 127.78489954600002, 130.52890705000004, 133.279508631, 136.01177902300003, 138.75474326900002, 141.515373785, 144.324099837, 147.15735620700002, 150.12808044900004, 153.390169372, 157.13637288700005, 160.163581765, 163.08774345, 165.96572997600003, 168.718697103, 171.70488140700002, 174.51840613900004, 177.40166520900004, 180.24836611199999, 183.046770605, 185.90489975800006, 188.715673811, 191.533325127, 194.33387843499997, 197.20226382600003, 200.04180843300003, 202.83627626400005, 205.67901709600005, 208.52654301400003, 211.439138254, 214.23473316500008, 217.20801401000006, 219.98014111700002, 222.78223344600008, 225.57298399, 228.34157882600005, 231.16240031400002, 234.14210305900008, 237.14536347299997, 239.93917280300002, 242.70985415200005, 245.49916724500008, 248.25851171800002, 251.19210198300004, 254.04942160200005, 256.90223328, 259.67487238700005, 262.43256683100003, 265.1787733670001, 267.967217646, 270.72010434800006, 273.460456111, 276.220419817, 278.97980960100006, 281.794770652, 284.8003207180001, 287.55968331500003] [1452857.374383322, 1312084.7878639551, 1222029.704645513, 1141213.4262696002, 1062983.2900615137, 1020143.5128764972, 982957.2835072742, 945494.7337198658, 908424.8095896544, 878392.698704856, 854716.3237203324, 840569.2762277242, 828992.3909723177, 818629.0108748896, 806667.7785098398, 797637.3425649027, 790329.0355946693, 783862.8751969314, 776203.5871599667, 769637.4953560929, 763827.721864034, 758162.1543891517, 753227.7103014732, 748934.5238136642, 744945.6894660174, 740566.0127308031, 736634.4431480244, 732757.0782380748, 729803.0526285842, 726979.3645737133, 724204.4117084623, 721435.6866346438, 718793.4383812918, 716343.1048736352, 714254.2629260255, 712185.0310979584, 710126.3593868348, 708196.2055038138, 706337.7973066428, 704480.2787062246, 702714.285588389, 701039.1397532666, 699367.521732315, 697736.7468551445, 696307.931643752, 694892.9101293235, 693490.5183129759, 692161.426713451, 690858.7574099355, 689569.7562567546, 688340.3145276324, 687150.7118442067, 685983.903652265, 684862.641559605, 683780.1105399308, 682716.5601917094, 681662.5944864512, 680659.0702076921, 679552.9304976913, 678547.338737689, 677566.286395656, 676611.4989933292, 675670.5519186107, 674790.4161767564, 673952.0748599265, 673118.3833308967, 672283.8070636537, 671496.837014144, 670311.4896046465, 669525.0622941608, 668755.4142225691, 668018.619819837, 667282.53115753, 666563.4648118662, 665858.0518849344, 665166.2776118465, 664479.5663193865, 663809.5163177461, 663141.1083608073, 662487.1281572194, 661375.6158356611, 660701.369871442, 660047.9565122522, 659437.606784751, 655543.5283930427, 653701.0223274857, 651863.7895956485, 650141.6266645292, 648506.785796417, 647458.0148704625, 646838.3906494728, 646232.826829464, 645648.0624179089, 644876.0408000905, 644329.2840621168, 643607.2456164551, 643104.6766211548, 642611.5935181997, 642119.6664547817, 641627.4077593631, 641137.1295378236]\n"
     ]
    },
    {
     "data": {
      "image/png": "[encoded data removed]",
      "text/plain": [
       "<Figure size 432x288 with 2 Axes>"
      ]
     },
     "metadata": {
      "needs_background": "light"
     },
     "output_type": "display_data"
    },
    {
     "name": "stdout",
     "output_type": "stream",
     "text": [
      "...................................................................."
     ]
    }
   ],
   "source": [
    "tsp = main()"
   ]
  },
  {
   "cell_type": "code",
   "execution_count": null,
   "metadata": {},
   "outputs": [],
   "source": [
    "print(tsp)"
   ]
  },
  {
   "cell_type": "code",
   "execution_count": null,
   "metadata": {},
   "outputs": [],
   "source": []
  },
  {
   "cell_type": "code",
   "execution_count": null,
   "metadata": {},
   "outputs": [],
   "source": []
  }
 ],
 "metadata": {
  "kernelspec": {
   "display_name": "Python 3",
   "language": "python",
   "name": "python3"
  },
  "language_info": {
   "codemirror_mode": {
    "name": "ipython",
    "version": 3
   },
   "file_extension": ".py",
   "mimetype": "text/x-python",
   "name": "python",
   "nbconvert_exporter": "python",
   "pygments_lexer": "ipython3",
   "version": "3.8.3"
  }
 },
 "nbformat": 4,
 "nbformat_minor": 4
}
