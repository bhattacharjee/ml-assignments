{
 "cells": [
  {
   "cell_type": "code",
   "execution_count": 111,
   "metadata": {},
   "outputs": [],
   "source": [
    "from lab_tsp_insertion import *\n",
    "import math"
   ]
  },
  {
   "cell_type": "code",
   "execution_count": 112,
   "metadata": {},
   "outputs": [],
   "source": [
    "class TSPSolution(object):\n",
    "    def __init__(self, instance: list, tour:list, distance:int):\n",
    "        self.tour = tour\n",
    "        self.n_cities = len(tour)\n",
    "        self.inst = instance\n",
    "        self.distance = self.calculate_solution_distance()\n",
    "    \n",
    "    def __repr__(self):\n",
    "        return f\"Tour={self.tour}, distance={self.distance}, n_cities={self.n_cities}\"\n",
    "    \n",
    "    def get_distance(self, x, y):\n",
    "        # This function takes the city number, not index into array\n",
    "        c1x, c1y = self.inst[x]\n",
    "        c2x, c2y = self.inst[y]\n",
    "        return math.sqrt((c2x - c1x) ** 2 + (c2y - c1y) ** 2)\n",
    "    \n",
    "    def copy(self):\n",
    "        return TSPSolution(self.inst, self.tour.copy(), self.distance)\n",
    "    \n",
    "    def is_valid_swap(self, x:int, y:int):\n",
    "        x, y = min(x, y), max(x, y)\n",
    "        x1 = (x + 1) % self.n_cities\n",
    "        y1 = (y + 1) % self.n_cities\n",
    "        return x != y and x != y1 and x != x1 and y != y1 and y != x1 and y1 != x1\n",
    "    \n",
    "    def calculate_cost_if_swapped(self, x:int, y: int):\n",
    "        # If the edges are swapped what would be the cost\n",
    "        x, y = min(x, y), max(x, y)\n",
    "        x1 = (x + 1) % self.n_cities\n",
    "        y1 = (y + 1) % self.n_cities\n",
    "        xx1 = self.get_distance(self.tour[x], self.tour[x1])\n",
    "        xy = self.get_distance(self.tour[x], self.tour[y])\n",
    "        yy1 = self.get_distance(self.tour[x], self.tour[y1])\n",
    "        x1y1 = self.get_distance(self.tour[x1], self.tour[y1])\n",
    "        return self.distance - xx1 - yy1 + x1y1 + xy\n",
    "    \n",
    "    def calculate_solution_distance(self):\n",
    "        dist = 0\n",
    "        for x in range(self.n_cities):\n",
    "            y = (x + 1) % self.n_cities\n",
    "            dist += self.get_distance(self.tour[x], self.tour[y])\n",
    "        return dist\n",
    "    \n",
    "    def perform_swap(self, x, y):\n",
    "        x, y = min(x, y), max(x, y)\n",
    "        new_distance = self.calculate_cost_if_swapped(self, x, y)\n",
    "        x1 = (x + 1) % self.n_cities\n",
    "        y1 = (y + 1) % self.n_cities\n",
    "        self.tour[x1], self.tour[y] = self.tour[y], self.tour[x1]\n",
    "        i = x1 + 1\n",
    "        j = y - 1\n",
    "        while (i < j):\n",
    "            self.tour[i], self.tour[j] = self.tour[j], self.tour[i]\n",
    "            i += 1\n",
    "            j -= 1\n",
    "        if self.calculate_solution_distance() != new_distance:\n",
    "            print(f\"New distance should have been {new_distance} but is {self.calculate_solution_distance()}\")\n",
    "        self.distance = new_distance\n"
   ]
  },
  {
   "cell_type": "code",
   "execution_count": 113,
   "metadata": {},
   "outputs": [],
   "source": [
    "class TSPHillClimbing(object):\n",
    "    def __init__(self, inst:dict = None):\n",
    "        self.inst = inst\n",
    "        self.individual = None\n",
    "        self.g_best_solution = None\n",
    "        self.g_best_distance = 99999999999999999999999999999999999999999\n",
    "        if None != self.inst:\n",
    "            self.individual = self.get_solution()\n",
    "            self.update_best_g_instance(self.individual)\n",
    "            \n",
    "    def __repr__(self):\n",
    "        return f\"inst = {self.inst}\\n\\nindividual = {self.individual}\\n\\n\" +\\\n",
    "             f\"g_best_solution = {self.g_best_solution}\\n\\ng_best_distance = {self.g_best_distance}\"\n",
    "    \n",
    "    def update_best_g_instance(self, instance: TSPSolution):\n",
    "        self.g_best_solution = instance.copy()\n",
    "        self.g_best_distance = instance.distance\n",
    "        \n",
    "    def get_solution(self)->Individual:\n",
    "        cities, distance = insertion_heuristic1(self.inst)\n",
    "        return TSPSolution(self.inst, cities, distance)\n",
    "    \n",
    "    "
   ]
  },
  {
   "cell_type": "code",
   "execution_count": 114,
   "metadata": {},
   "outputs": [],
   "source": [
    "def main():\n",
    "    inst = readInstance('small/inst-0.tsp')\n",
    "    tsp = TSPHillClimbing(inst)\n",
    "    return tsp"
   ]
  },
  {
   "cell_type": "code",
   "execution_count": 115,
   "metadata": {},
   "outputs": [],
   "source": [
    "tsp = main()"
   ]
  },
  {
   "cell_type": "code",
   "execution_count": null,
   "metadata": {},
   "outputs": [],
   "source": []
  },
  {
   "cell_type": "code",
   "execution_count": 116,
   "metadata": {},
   "outputs": [
    {
     "name": "stdout",
     "output_type": "stream",
     "text": [
      "inst = {1: (823170, 415922), 2: (793699, 274913), 3: (981665, 218777), 4: (878910, 431320), 5: (910125, 405907), 6: (906606, 245337), 7: (899056, 332853), 8: (1089292, 394322), 9: (927737, 272081), 10: (892665, 439995), 11: (944969, 373782), 12: (938212, 332620), 13: (1083153, 253644), 14: (1024695, 290224), 15: (873010, 352458), 16: (1045495, 276563), 17: (921003, 469289), 18: (897337, 330197), 19: (950679, 422609), 20: (885793, 342108), 21: (924482, 437440), 22: (1075342, 323656), 23: (1033856, 225562), 24: (897960, 301240), 25: (927121, 412135), 26: (938623, 322333), 27: (882695, 405726), 28: (1005297, 303888), 29: (925787, 366632), 30: (903735, 448416), 31: (910698, 279716), 32: (933389, 418800), 33: (1050001, 397058), 34: (906993, 268522), 35: (953519, 393295), 36: (919207, 291336), 37: (995657, 200005), 38: (789737, 327330), 39: (825695, 261004)}\n",
      "\n",
      "individual = Tour=[5, 25, 32, 19, 35, 11, 29, 12, 26, 36, 31, 34, 9, 6, 24, 18, 7, 20, 15, 27, 4, 10, 30, 21, 17, 1, 38, 2, 39, 3, 37, 23, 16, 14, 28, 22, 13, 8, 33], distance=1656649.9591282224, n_cities=39\n",
      "\n",
      "g_best_solution = Tour=[5, 25, 32, 19, 35, 11, 29, 12, 26, 36, 31, 34, 9, 6, 24, 18, 7, 20, 15, 27, 4, 10, 30, 21, 17, 1, 38, 2, 39, 3, 37, 23, 16, 14, 28, 22, 13, 8, 33], distance=1656649.9591282224, n_cities=39\n",
      "\n",
      "g_best_distance = 1656649.9591282224\n"
     ]
    }
   ],
   "source": [
    "print(tsp)"
   ]
  },
  {
   "cell_type": "code",
   "execution_count": 117,
   "metadata": {},
   "outputs": [
    {
     "data": {
      "text/plain": [
       "0"
      ]
     },
     "execution_count": 117,
     "metadata": {},
     "output_type": "execute_result"
    }
   ],
   "source": [
    "8 % 8"
   ]
  },
  {
   "cell_type": "code",
   "execution_count": null,
   "metadata": {},
   "outputs": [],
   "source": []
  }
 ],
 "metadata": {
  "kernelspec": {
   "display_name": "Python 3",
   "language": "python",
   "name": "python3"
  },
  "language_info": {
   "codemirror_mode": {
    "name": "ipython",
    "version": 3
   },
   "file_extension": ".py",
   "mimetype": "text/x-python",
   "name": "python",
   "nbconvert_exporter": "python",
   "pygments_lexer": "ipython3",
   "version": "3.8.3"
  }
 },
 "nbformat": 4,
 "nbformat_minor": 4
}
