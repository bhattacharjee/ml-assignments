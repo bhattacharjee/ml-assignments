{
 "cells": [
  {
   "cell_type": "code",
   "execution_count": 1,
   "metadata": {},
   "outputs": [],
   "source": [
    "%matplotlib inline"
   ]
  },
  {
   "cell_type": "code",
   "execution_count": 2,
   "metadata": {},
   "outputs": [],
   "source": [
    "from lab_tsp_insertion import *\n",
    "import math\n",
    "import matplotlib.pyplot as plt\n",
    "import sys"
   ]
  },
  {
   "cell_type": "code",
   "execution_count": 30,
   "metadata": {},
   "outputs": [],
   "source": [
    "from functools import lru_cache\n",
    "class TSPSolution(object):\n",
    "    def __init__(self, instance: list, tour:list, distance:int):\n",
    "        self.tour = tour\n",
    "        self.n_cities = len(tour)\n",
    "        self.inst = instance\n",
    "        self.distance = self.calculate_solution_distance()\n",
    "    \n",
    "    def __repr__(self):\n",
    "        return f\"Tour={self.tour}, distance={self.distance}, n_cities={self.n_cities}\"\n",
    "    \n",
    "    def get_n_cities(self):\n",
    "        return self.n_cities\n",
    "    \n",
    "    @lru_cache(maxsize=1024 * 1024 * 1024)\n",
    "    def get_distance(self, x, y):\n",
    "        # This function takes the city number, not index into array\n",
    "        c1x, c1y = self.inst[x]\n",
    "        c2x, c2y = self.inst[y]\n",
    "        return ((c2x - c1x) ** 2 + (c2y - c1y) ** 2)\n",
    "    \n",
    "    def copy(self):\n",
    "        return TSPSolution(self.inst, self.tour.copy(), self.distance)\n",
    "    \n",
    "    @lru_cache(maxsize=1024 * 1024 * 1024)\n",
    "    def is_valid_swap(self, x:int, y:int):\n",
    "        x, y = min(x, y), max(x, y)\n",
    "        x1 = (x + 1) % self.n_cities\n",
    "        y1 = (y + 1) % self.n_cities\n",
    "        return x != y and x != y1 and x != x1 and y != y1 and y != x1 and y1 != x1\n",
    "    \n",
    "    def calculate_cost_if_swapped(self, x:int, y: int):\n",
    "        # If the edges are swapped what would be the cost\n",
    "        x, y = min(x, y), max(x, y)\n",
    "        x1 = (x + 1) % self.n_cities\n",
    "        y1 = (y + 1) % self.n_cities\n",
    "        xx1 = self.get_distance(self.tour[x], self.tour[x1])\n",
    "        xy = self.get_distance(self.tour[x], self.tour[y])\n",
    "        yy1 = self.get_distance(self.tour[y], self.tour[y1])\n",
    "        x1y1 = self.get_distance(self.tour[x1], self.tour[y1])\n",
    "        return self.distance - xx1 - yy1 + x1y1 + xy\n",
    "    \n",
    "    def get_cache_stats(self):\n",
    "        return self.get_distance.cache_info(), self.is_valid_swap.cache_info()\n",
    "    \n",
    "    def calculate_solution_distance(self):\n",
    "        dist = 0\n",
    "        for x in range(self.n_cities):\n",
    "            y = (x + 1) % self.n_cities\n",
    "            dist += self.get_distance(self.tour[x], self.tour[y])\n",
    "        return dist\n",
    "    \n",
    "    def perform_swap(self, x, y):\n",
    "        x, y = min(x, y), max(x, y)\n",
    "        new_distance = self.calculate_cost_if_swapped(x, y)\n",
    "        x1 = (x + 1) % self.n_cities\n",
    "        y1 = (y + 1) % self.n_cities\n",
    "        assert(x1 < y)\n",
    "        self.tour[x1], self.tour[y] = self.tour[y], self.tour[x1]\n",
    "        i = x1 + 1\n",
    "        j = y - 1\n",
    "        while (i < j):\n",
    "            self.tour[i], self.tour[j] = self.tour[j], self.tour[i]\n",
    "            i += 1\n",
    "            j -= 1\n",
    "        #if int(self.calculate_solution_distance()) != int(new_distance):\n",
    "        #    print(f\"New distance should have been {new_distance} but is {self.calculate_solution_distance()}\")\n",
    "        self.distance = new_distance\n"
   ]
  },
  {
   "cell_type": "code",
   "execution_count": 87,
   "metadata": {},
   "outputs": [],
   "source": [
    "class TSPHillClimbing(object):\n",
    "    def __init__(self, inst:dict = None, max_sideways_moves:int=0):\n",
    "        self.inst = inst\n",
    "        self.ind = None\n",
    "        self.g_best_solution = None\n",
    "        self.g_best_distance = 99999999999999999999999999999999999999999\n",
    "        self.current_iter_sols = []\n",
    "        self.current_iter_dist = None\n",
    "        self.max_sideways_moves = max_sideways_moves\n",
    "        self.n_sideways_moves = 0\n",
    "        self.g_best_distance = 999999999999999999999999999999999999999999\n",
    "        self.g_best_sol = None\n",
    "        if None != self.inst:\n",
    "            self.ind = self.get_solution()\n",
    "            self.update_best_g_instance(self.ind)\n",
    "\n",
    "            \n",
    "    def __repr__(self):\n",
    "        return f\"inst = {self.inst}\\n\\nindividual = {self.ind}\\n\\n\" +\\\n",
    "             f\"g_best_solution = {self.g_best_solution}\\n\\ng_best_distance = {self.g_best_distance}\"\n",
    "    \n",
    "    def update_best_g_instance(self, instance: TSPSolution):\n",
    "        self.g_best_solution = instance.copy()\n",
    "        self.g_best_distance = instance.distance\n",
    "        \n",
    "    def get_solution(self):\n",
    "        #cities, distance = insertion_heuristic1(self.inst)\n",
    "        cities, distance = randomTours(self.inst)\n",
    "        return TSPSolution(self.inst, cities, distance)\n",
    "    \n",
    "    def check_improving_move(self):\n",
    "        self.current_iter_dist = self.ind.distance\n",
    "        self.current_iter_sols = []\n",
    "        for i in range(self.ind.get_n_cities()):\n",
    "            for j in range(i+2, self.ind.get_n_cities()):\n",
    "                if not self.ind.is_valid_swap(i, j):\n",
    "                    pass\n",
    "                else:\n",
    "                    newcost = self.ind.calculate_cost_if_swapped(i, j)\n",
    "                    if newcost == self.current_iter_dist:\n",
    "                        self.current_iter_sols.append(list(i, j))\n",
    "                    elif newcost < self.current_iter_dist:\n",
    "                        self.current_iter_dist = newcost\n",
    "                        self.current_iter_sols = [[i,j]]\n",
    "    \n",
    "    def iterate_once(self, allow_sideways=False):\n",
    "        update = False\n",
    "        old_distance = self.ind.distance\n",
    "        self.check_improving_move()\n",
    "        if old_distance == self.current_iter_dist:\n",
    "            if not allow_sideways or len(self.current_iter_sols) == 0:\n",
    "                print(\"All moves are worse\")\n",
    "                return old_distance, self.current_iter_dist, True\n",
    "            else:\n",
    "                print(\"Performing sideways move\", self.n_sideways_moves + 1)\n",
    "                self.n_sideways_moves += 1\n",
    "                update = True\n",
    "        if int(self.ind.distance) > int(self.current_iter_dist):\n",
    "            self.n_sideways_moves = 0\n",
    "            update = True\n",
    "        if update:\n",
    "            toswap = self.current_iter_sols[random.randint(0, len(self.current_iter_sols)-1)]\n",
    "            x, y = tuple(toswap)\n",
    "            self.ind.perform_swap(x, y)\n",
    "        return old_distance, self.current_iter_dist, False\n",
    "        \n",
    "    def iterate(self, n_iterations, allow_sideways=False, max_sideways_moves=-1):\n",
    "        y = []\n",
    "        rt = []\n",
    "        self.n_sideways_moves = 0\n",
    "        t1 = time.perf_counter()\n",
    "        for i in range(n_iterations):\n",
    "            sys.stdout.write('.')\n",
    "            old_distance, current_iter_dist, all_moves_worse = self.iterate_once(allow_sideways)\n",
    "            if 0 == i:\n",
    "                y.append(math.sqrt(old_distance))\n",
    "            rt.append(time.perf_counter() - t1)\n",
    "            y.append(math.sqrt(current_iter_dist))\n",
    "            if old_distance == current_iter_dist:\n",
    "                print(self.n_sideways_moves)\n",
    "                if all_moves_worse or not allow_sideways or max_sideways_moves < self.n_sideways_moves:\n",
    "                    if allow_sideways:\n",
    "                        print(\"Reached maximum sideways moves\")\n",
    "                    break\n",
    "            sys.stdout.write(\" %f \" % (math.sqrt(old_distance) - math.sqrt(current_iter_dist)))\n",
    "        print(\"iterations done: \", i)\n",
    "        print('-' * 80)\n",
    "        fig, ax = plt.subplots(2)\n",
    "        ax[0].plot(y, label='distance')\n",
    "        ax[1].plot(rt, label='runtime')\n",
    "        #print(rt, y)\n",
    "        fig.legend()\n",
    "        plt.show()\n",
    "        \n",
    "    def restart_and_iterate(self, n_iterations=100, n_restarts:int=5, allow_sideways=False, max_sideways_moves=-1):\n",
    "        for i in range(n_restarts):\n",
    "            self.ind = self.get_solution()\n",
    "            #print(math.sqrt(self.ind.distance))\n",
    "            self.update_best_g_instance(self.ind)\n",
    "            self.iterate(n_iterations, allow_sideways, max_sideways_moves)\n",
    "            #print(math.sqrt(self.ind.distance))\n",
    "                "
   ]
  },
  {
   "cell_type": "code",
   "execution_count": 98,
   "metadata": {},
   "outputs": [],
   "source": [
    "class TSPHillClimbingRandomIprovement(TSPHillClimbing):\n",
    "    def iterate_once(self, allow_sideways=False):\n",
    "        print(\"--- iterating once\")\n",
    "        return True, True, True\n",
    "    pass"
   ]
  },
  {
   "cell_type": "code",
   "execution_count": 99,
   "metadata": {},
   "outputs": [],
   "source": [
    "random.seed(5)\n",
    "def main():\n",
    "    inst = readInstance('TSPData/inst-0.tsp')\n",
    "    tsp = TSPHillClimbingRandomIprovement(inst)\n",
    "    tsp.restart_and_iterate(10000, 5, True, 10)\n",
    "    print('-' * 80)\n",
    "    return tsp"
   ]
  },
  {
   "cell_type": "code",
   "execution_count": 100,
   "metadata": {},
   "outputs": [
    {
     "name": "stdout",
     "output_type": "stream",
     "text": [
      ".--- iterating once\n",
      "0\n",
      "Reached maximum sideways moves\n",
      "iterations done:  0\n",
      "--------------------------------------------------------------------------------\n"
     ]
    },
    {
     "data": {
      "image/png": "[encoded data removed]",
      "text/plain": [
       "<Figure size 432x288 with 2 Axes>"
      ]
     },
     "metadata": {
      "needs_background": "light"
     },
     "output_type": "display_data"
    },
    {
     "name": "stdout",
     "output_type": "stream",
     "text": [
      ".--- iterating once\n",
      "0\n",
      "Reached maximum sideways moves\n",
      "iterations done:  0\n",
      "--------------------------------------------------------------------------------\n"
     ]
    },
    {
     "data": {
      "image/png": "[encoded data removed]",
      "text/plain": [
       "<Figure size 432x288 with 2 Axes>"
      ]
     },
     "metadata": {
      "needs_background": "light"
     },
     "output_type": "display_data"
    },
    {
     "name": "stdout",
     "output_type": "stream",
     "text": [
      ".--- iterating once\n",
      "0\n",
      "Reached maximum sideways moves\n",
      "iterations done:  0\n",
      "--------------------------------------------------------------------------------\n"
     ]
    },
    {
     "data": {
      "image/png": "[encoded data removed]",
      "text/plain": [
       "<Figure size 432x288 with 2 Axes>"
      ]
     },
     "metadata": {
      "needs_background": "light"
     },
     "output_type": "display_data"
    },
    {
     "name": "stdout",
     "output_type": "stream",
     "text": [
      ".--- iterating once\n",
      "0\n",
      "Reached maximum sideways moves\n",
      "iterations done:  0\n",
      "--------------------------------------------------------------------------------\n"
     ]
    },
    {
     "data": {
      "image/png": "[encoded data removed]",
      "text/plain": [
       "<Figure size 432x288 with 2 Axes>"
      ]
     },
     "metadata": {
      "needs_background": "light"
     },
     "output_type": "display_data"
    },
    {
     "name": "stdout",
     "output_type": "stream",
     "text": [
      ".--- iterating once\n",
      "0\n",
      "Reached maximum sideways moves\n",
      "iterations done:  0\n",
      "--------------------------------------------------------------------------------\n"
     ]
    },
    {
     "data": {
      "image/png": "[encoded data removed]",
      "text/plain": [
       "<Figure size 432x288 with 2 Axes>"
      ]
     },
     "metadata": {
      "needs_background": "light"
     },
     "output_type": "display_data"
    },
    {
     "name": "stdout",
     "output_type": "stream",
     "text": [
      "--------------------------------------------------------------------------------\n"
     ]
    }
   ],
   "source": [
    "tsp = main()"
   ]
  },
  {
   "cell_type": "code",
   "execution_count": null,
   "metadata": {},
   "outputs": [],
   "source": []
  },
  {
   "cell_type": "code",
   "execution_count": null,
   "metadata": {},
   "outputs": [],
   "source": []
  },
  {
   "cell_type": "code",
   "execution_count": null,
   "metadata": {},
   "outputs": [],
   "source": []
  }
 ],
 "metadata": {
  "kernelspec": {
   "display_name": "Python 3",
   "language": "python",
   "name": "python3"
  },
  "language_info": {
   "codemirror_mode": {
    "name": "ipython",
    "version": 3
   },
   "file_extension": ".py",
   "mimetype": "text/x-python",
   "name": "python",
   "nbconvert_exporter": "python",
   "pygments_lexer": "ipython3",
   "version": "3.8.3"
  }
 },
 "nbformat": 4,
 "nbformat_minor": 4
}
