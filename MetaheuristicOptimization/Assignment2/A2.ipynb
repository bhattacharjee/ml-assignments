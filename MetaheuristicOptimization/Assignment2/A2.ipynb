{
 "cells": [
  {
   "cell_type": "code",
   "execution_count": 126,
   "metadata": {},
   "outputs": [],
   "source": [
    "from lab_tsp_insertion import *\n",
    "import math"
   ]
  },
  {
   "cell_type": "code",
   "execution_count": 127,
   "metadata": {},
   "outputs": [],
   "source": [
    "class TSPSolution(object):\n",
    "    def __init__(self, instance: list, tour:list, distance:int):\n",
    "        self.tour = tour\n",
    "        self.n_cities = len(tour)\n",
    "        self.inst = instance\n",
    "        self.distance = self.calculate_solution_distance()\n",
    "    \n",
    "    def __repr__(self):\n",
    "        return f\"Tour={self.tour}, distance={self.distance}, n_cities={self.n_cities}\"\n",
    "    \n",
    "    def get_n_cities(self):\n",
    "        return self.n_cities\n",
    "    \n",
    "    def get_distance(self, x, y):\n",
    "        # This function takes the city number, not index into array\n",
    "        c1x, c1y = self.inst[x]\n",
    "        c2x, c2y = self.inst[y]\n",
    "        return math.sqrt((c2x - c1x) ** 2 + (c2y - c1y) ** 2)\n",
    "    \n",
    "    def copy(self):\n",
    "        return TSPSolution(self.inst, self.tour.copy(), self.distance)\n",
    "    \n",
    "    def is_valid_swap(self, x:int, y:int):\n",
    "        x, y = min(x, y), max(x, y)\n",
    "        x1 = (x + 1) % self.n_cities\n",
    "        y1 = (y + 1) % self.n_cities\n",
    "        return x != y and x != y1 and x != x1 and y != y1 and y != x1 and y1 != x1\n",
    "    \n",
    "    def calculate_cost_if_swapped(self, x:int, y: int):\n",
    "        # If the edges are swapped what would be the cost\n",
    "        x, y = min(x, y), max(x, y)\n",
    "        x1 = (x + 1) % self.n_cities\n",
    "        y1 = (y + 1) % self.n_cities\n",
    "        xx1 = self.get_distance(self.tour[x], self.tour[x1])\n",
    "        xy = self.get_distance(self.tour[x], self.tour[y])\n",
    "        yy1 = self.get_distance(self.tour[x], self.tour[y1])\n",
    "        x1y1 = self.get_distance(self.tour[x1], self.tour[y1])\n",
    "        return self.distance - xx1 - yy1 + x1y1 + xy\n",
    "    \n",
    "    def calculate_solution_distance(self):\n",
    "        dist = 0\n",
    "        for x in range(self.n_cities):\n",
    "            y = (x + 1) % self.n_cities\n",
    "            dist += self.get_distance(self.tour[x], self.tour[y])\n",
    "        return dist\n",
    "    \n",
    "    def perform_swap(self, x, y):\n",
    "        x, y = min(x, y), max(x, y)\n",
    "        new_distance = self.calculate_cost_if_swapped(self, x, y)\n",
    "        x1 = (x + 1) % self.n_cities\n",
    "        y1 = (y + 1) % self.n_cities\n",
    "        self.tour[x1], self.tour[y] = self.tour[y], self.tour[x1]\n",
    "        i = x1 + 1\n",
    "        j = y - 1\n",
    "        while (i < j):\n",
    "            self.tour[i], self.tour[j] = self.tour[j], self.tour[i]\n",
    "            i += 1\n",
    "            j -= 1\n",
    "        if self.calculate_solution_distance() != new_distance:\n",
    "            print(f\"New distance should have been {new_distance} but is {self.calculate_solution_distance()}\")\n",
    "        self.distance = new_distance\n"
   ]
  },
  {
   "cell_type": "code",
   "execution_count": 143,
   "metadata": {},
   "outputs": [],
   "source": [
    "class TSPHillClimbing(object):\n",
    "    def __init__(self, inst:dict = None):\n",
    "        self.inst = inst\n",
    "        self.ind = None\n",
    "        self.g_best_solution = None\n",
    "        self.g_best_distance = 99999999999999999999999999999999999999999\n",
    "        if None != self.inst:\n",
    "            self.ind = self.get_solution()\n",
    "            self.update_best_g_instance(self.ind)\n",
    "            \n",
    "    def __repr__(self):\n",
    "        return f\"inst = {self.inst}\\n\\nindividual = {self.individual}\\n\\n\" +\\\n",
    "             f\"g_best_solution = {self.g_best_solution}\\n\\ng_best_distance = {self.g_best_distance}\"\n",
    "    \n",
    "    def update_best_g_instance(self, instance: TSPSolution):\n",
    "        self.g_best_solution = instance.copy()\n",
    "        self.g_best_distance = instance.distance\n",
    "        \n",
    "    def get_solution(self)->Individual:\n",
    "        cities, distance = insertion_heuristic1(self.inst)\n",
    "        return TSPSolution(self.inst, cities, distance)\n",
    "    \n",
    "    def check_improving_move(self):\n",
    "        current_cost = self.ind.distance\n",
    "        for i in range(self.ind.get_n_cities()):\n",
    "            for j in range(i+2, self.ind.get_n_cities()):\n",
    "                if not self.ind.is_valid_swap(i, j):\n",
    "                    print(f\"{i}, {j} is not a valid swap\")\n",
    "                else:\n",
    "                    newcost = self.ind.calculate_cost_if_swapped(i, j)\n",
    "                    if newcost < current_cost:\n",
    "                        print(f\"Improved swapping {i}, {j} : {current_cost} -> {newcost}\")"
   ]
  },
  {
   "cell_type": "code",
   "execution_count": 144,
   "metadata": {},
   "outputs": [],
   "source": [
    "def main():\n",
    "    inst = readInstance('small/inst-0.tsp')\n",
    "    tsp = TSPHillClimbing(inst)\n",
    "    tsp.check_improving_move()\n",
    "    return tsp"
   ]
  },
  {
   "cell_type": "code",
   "execution_count": 145,
   "metadata": {},
   "outputs": [
    {
     "name": "stdout",
     "output_type": "stream",
     "text": [
      "Improved swapping 0, 2 : 1653687.2696591003 -> 1649990.669924764\n",
      "0, 38 is not a valid swap\n",
      "Improved swapping 2, 4 : 1653687.2696591003 -> 1633463.4666229817\n",
      "Improved swapping 4, 6 : 1653687.2696591003 -> 1631521.6913486721\n",
      "Improved swapping 4, 7 : 1653687.2696591003 -> 1649172.2090688357\n",
      "Improved swapping 4, 8 : 1653687.2696591003 -> 1632835.239084849\n",
      "Improved swapping 5, 8 : 1653687.2696591003 -> 1647272.671726965\n",
      "Improved swapping 6, 8 : 1653687.2696591003 -> 1649134.0055277469\n",
      "Improved swapping 9, 11 : 1653687.2696591003 -> 1626275.26151856\n",
      "Improved swapping 9, 12 : 1653687.2696591003 -> 1628617.5133399111\n",
      "Improved swapping 9, 13 : 1653687.2696591003 -> 1640809.5415758342\n",
      "Improved swapping 9, 14 : 1653687.2696591003 -> 1652819.022354936\n",
      "Improved swapping 10, 12 : 1653687.2696591003 -> 1630302.0811738628\n",
      "Improved swapping 10, 13 : 1653687.2696591003 -> 1643367.535655375\n",
      "Improved swapping 10, 14 : 1653687.2696591003 -> 1653035.3321384424\n",
      "Improved swapping 14, 16 : 1653687.2696591003 -> 1624601.7517340349\n",
      "Improved swapping 14, 17 : 1653687.2696591003 -> 1636098.7546846836\n",
      "Improved swapping 14, 18 : 1653687.2696591003 -> 1653407.3341164892\n",
      "Improved swapping 14, 20 : 1653687.2696591003 -> 1653579.850465176\n",
      "Improved swapping 14, 21 : 1653687.2696591003 -> 1642461.4038970293\n",
      "Improved swapping 14, 22 : 1653687.2696591003 -> 1630006.9866321348\n",
      "Improved swapping 14, 23 : 1653687.2696591003 -> 1652115.43678376\n",
      "Improved swapping 15, 17 : 1653687.2696591003 -> 1646053.7310642\n",
      "Improved swapping 16, 18 : 1653687.2696591003 -> 1653505.7260258077\n",
      "Improved swapping 18, 22 : 1653687.2696591003 -> 1649736.2634404097\n",
      "Improved swapping 19, 21 : 1653687.2696591003 -> 1650420.989532585\n",
      "Improved swapping 24, 26 : 1653687.2696591003 -> 1647294.269394127\n",
      "Improved swapping 25, 27 : 1653687.2696591003 -> 1623560.0317676333\n",
      "Improved swapping 26, 28 : 1653687.2696591003 -> 1652236.662478999\n",
      "Improved swapping 28, 30 : 1653687.2696591003 -> 1514152.384550359\n",
      "Improved swapping 28, 31 : 1653687.2696591003 -> 1569010.415848062\n",
      "Improved swapping 28, 32 : 1653687.2696591003 -> 1594722.4780711767\n",
      "Improved swapping 28, 33 : 1653687.2696591003 -> 1596916.0664515248\n",
      "Improved swapping 28, 34 : 1653687.2696591003 -> 1559987.860284803\n",
      "Improved swapping 28, 35 : 1653687.2696591003 -> 1599237.952843098\n",
      "Improved swapping 31, 33 : 1653687.2696591003 -> 1631918.551500366\n",
      "Improved swapping 31, 34 : 1653687.2696591003 -> 1633993.9811325087\n",
      "Improved swapping 31, 36 : 1653687.2696591003 -> 1606117.3686057678\n",
      "Improved swapping 34, 36 : 1653687.2696591003 -> 1622172.8362562484\n",
      "Improved swapping 36, 38 : 1653687.2696591003 -> 1605303.21599231\n"
     ]
    }
   ],
   "source": [
    "tsp = main()"
   ]
  },
  {
   "cell_type": "code",
   "execution_count": null,
   "metadata": {},
   "outputs": [],
   "source": []
  },
  {
   "cell_type": "code",
   "execution_count": null,
   "metadata": {},
   "outputs": [],
   "source": [
    "print(tsp)"
   ]
  },
  {
   "cell_type": "code",
   "execution_count": null,
   "metadata": {},
   "outputs": [],
   "source": [
    "8 % 8"
   ]
  },
  {
   "cell_type": "code",
   "execution_count": null,
   "metadata": {},
   "outputs": [],
   "source": []
  }
 ],
 "metadata": {
  "kernelspec": {
   "display_name": "Python 3",
   "language": "python",
   "name": "python3"
  },
  "language_info": {
   "codemirror_mode": {
    "name": "ipython",
    "version": 3
   },
   "file_extension": ".py",
   "mimetype": "text/x-python",
   "name": "python",
   "nbconvert_exporter": "python",
   "pygments_lexer": "ipython3",
   "version": "3.8.3"
  }
 },
 "nbformat": 4,
 "nbformat_minor": 4
}
